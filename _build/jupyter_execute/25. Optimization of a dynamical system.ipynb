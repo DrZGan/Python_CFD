{
 "cells": [
  {
   "cell_type": "markdown",
   "id": "b54078db",
   "metadata": {},
   "source": [
    "Step 19 (Speical Topic 3): Optimization of Dynamical Systems\n",
    "----\n",
    "***\n",
    "\n",
    "In this step, we integrate a forward Partial Differential Equation (PDE) solver with an optimization algorithm to fine-tune input parameters, ensuring that the solver's output aligns with specified target values. Utilizing [Automatic Differentiation](https://jax.readthedocs.io/en/latest/jax-101/04-advanced-autodiff.html) in JAX, we can effortlessly compute derivatives of the model output with respect to the input parameters. This capability facilitates the use of gradient-based optimization algorithms, such as the gradient descent method, for efficient exploration of the parameter space. While this step employs an Ordinary Differential Equation (ODE) as the forward solver, the optimization framework is versatile and can be applied to other ODE and PDE solvers."
   ]
  },
  {
   "cell_type": "code",
   "execution_count": 1,
   "id": "7ffed498",
   "metadata": {},
   "outputs": [],
   "source": [
    "import jax\n",
    "import jax.numpy as np\n",
    "from jax import linear_util as lu\n",
    "from jax.flatten_util import ravel_pytree\n",
    "import numpy as onp\n",
    "from functools import partial\n",
    "import matplotlib.pyplot as plt\n",
    "import scipy.optimize as opt\n",
    "import sys"
   ]
  },
  {
   "cell_type": "markdown",
   "id": "3342765d",
   "metadata": {},
   "source": [
    "\n",
    "A brief explanation has been given below about what this program does.\n",
    "\n",
    "Define a Dynamical System: It sets up a mathematical model that describes how a dynamical system (specifically, the Lorenz system) evolves over time. This model involves equations that govern how the system's variables change with time.\n",
    "\n",
    "Numerical Integration: It uses a numerical method (Runge-Kutta 4th order) to simulate the behavior of the dynamical system over a range of time points. This involves repeatedly applying the equations from the dynamical system to calculate how the system's variables change at each time step.\n",
    "\n",
    "Gradient Computation: It calculates how sensitive the system's behavior is to changes in its parameters. This is important for understanding how small adjustments to certain parameters affect the system's output. The program computes these gradients using different methods, including finite differences and automatic differentiation.\n",
    "\n",
    "Optimization: It tries to find the best-fitting parameters for the dynamical system by minimizing the difference between the system's behavior and a target state. In other words, it adjusts the parameters to make the simulated system's output as close as possible to the desired outcome.\n",
    "\n",
    "Printing Results: The program then prints out the estimated parameters that make the model fit the target state most closely. It also shows the initial parameters and the ground truth parameters for comparison.\n",
    "\n",
    "In simple terms, this program simulates a dynamic system, like weather patterns or fluid flow, and tries to figure out the rules that govern it. It does this by adjusting parameters in a mathematical model until the model's predictions match real-world observations as closely as possible.\n",
    "\n",
    "\n",
    "\n",
    "\n",
    "\n"
   ]
  },
  {
   "cell_type": "markdown",
   "id": "112ed679",
   "metadata": {},
   "source": [
    "### Define dynamical system"
   ]
  },
  {
   "cell_type": "markdown",
   "id": "abb5d254",
   "metadata": {},
   "source": [
    "#### Lorenz System\n",
    "The Lorenz system was initially derived from a Oberbeck-Boussinesq approximation. This approximation is\n",
    "a coupling of the Navier-Stokes equations with thermal convection. The original problem was a 2D problem\n",
    "considering the thermal convection between two parallel horizontal plates. The Lorenz system arises from\n",
    "using a truncated Fourier-Galerkin expansion.\n",
    "\n",
    "$$\\frac{dx}{dt}=\\sigma(y-x),$$ \n",
    "$$\\frac{dy}{dt}=x(\\rho-z)-y,$$ \n",
    "$$\\frac{dz}{dt}=xy-\\beta z ,$$ <br>\n",
    ">where,\n",
    "$\\sigma \\,$ is the Prandle number\\, \n",
    "$\\rho \\, $ is a scaled value of Rayleigh number and $\\beta \\,$ is an aspect ratio \n",
    "\n",
    "\n",
    "\n",
    "\n",
    "\n",
    "\n"
   ]
  },
  {
   "cell_type": "code",
   "execution_count": 2,
   "id": "93df0812",
   "metadata": {},
   "outputs": [],
   "source": [
    "def Lorenz_rhs_func(state, t, ode_params):\n",
    "    rho, sigma, beta = ode_params\n",
    "    x, y, z = state\n",
    "    return np.array([sigma * (y - x), x * (rho - z) - y, x * y - beta * z])"
   ]
  },
  {
   "cell_type": "markdown",
   "id": "99e140e6",
   "metadata": {},
   "source": [
    "### Runge-Kutta Method\n",
    "RK method is widely used for solving initial value problems of differential equation by constructing higher order approximation of a differential problem. 4th order variant, or RK4 produces more accurate result than other simpler numerical methods.\n",
    "\n",
    "In the code, h is the small time step, $k_1$ is the slope at the initial value, derived simply from euler's method.\n",
    " $k_2$ and $k_3$ both are slope at midpoint of the interval h, but using $k_1$ and $k_2$ respectively for calculating. And $k_4$ is the slope at the end-point. Weighted average of these 4 slopes is used to calculate a more accurate estimation of the endpoint.\n"
   ]
  },
  {
   "cell_type": "code",
   "execution_count": 3,
   "id": "dbbccd42",
   "metadata": {},
   "outputs": [],
   "source": [
    "# About the decorator: f is a function (not JAX array) and JAX needs to know that so we specify it as \"static\"\n",
    "@partial(jax.jit, static_argnums=(2,))\n",
    "def rk4(state, t_crt, f, ode_params):\n",
    "    y_prev, t_prev = state\n",
    "    h = t_crt - t_prev\n",
    "    k1 = h * f(y_prev, t_prev, ode_params)\n",
    "    k2 = h * f(y_prev + k1/2., t_prev + h/2., ode_params)\n",
    "    k3 = h * f(y_prev + k2/2., t_prev + h/2., ode_params)\n",
    "    k4 = h * f(y_prev + k3, t_prev + h, ode_params)\n",
    "    y_crt = y_prev + 1./6 * (k1 + 2 * k2 + 2 * k3 + k4)\n",
    "    return (y_crt, t_crt), y_crt"
   ]
  },
  {
   "cell_type": "code",
   "execution_count": 4,
   "id": "38413e02",
   "metadata": {},
   "outputs": [],
   "source": [
    "#ys_ = odeint(rk4, Lorenz_rhs_func, y0, ts, ode_params_opt)\n",
    "\n",
    "#stepper is the interative solver, here it is RK4 method\n",
    "#f is funcition to operate; here which is Lorenz function\n",
    "#ts = np.arange(0, 101*dt, dt)\n",
    "#rho, sigma, beta = ode_params\n",
    "#odeint takes system function, ode parameters as input and calculates space values of the system at progressing small time difference\n",
    "def odeint(stepper, f, y0, ts, ode_params):\n",
    "\n",
    "    def stepper_partial(state, t_crt):\n",
    "        #stepper function is used to advance the state of an ODE system from one time point to another. Output contains new state, new time\n",
    "        return stepper(state, t_crt, f, ode_params)\n",
    "\n",
    "    ys = []\n",
    "    state = (y0, ts[0])\n",
    "    for (i, t_crt) in enumerate(ts[1:]):\n",
    "        state, y = stepper_partial(state, t_crt)\n",
    "        #print(\"state, y\", state, y)\n",
    "        ys.append(y)\n",
    "    ys = np.array(ys)\n",
    "    #print(\"ys =\", ys)\n",
    "    return ys"
   ]
  },
  {
   "cell_type": "code",
   "execution_count": 5,
   "id": "330404e9",
   "metadata": {},
   "outputs": [
    {
     "name": "stderr",
     "output_type": "stream",
     "text": [
      "An NVIDIA GPU may be present on this machine, but a CUDA-enabled jaxlib is not installed. Falling back to cpu.\n"
     ]
    },
    {
     "data": {
      "text/plain": [
       "[<mpl_toolkits.mplot3d.art3d.Line3D at 0x7f80907a1090>]"
      ]
     },
     "execution_count": 5,
     "metadata": {},
     "output_type": "execute_result"
    },
    {
     "data": {
      "image/png": "[encoded data removed]",
      "text/plain": [
       "<Figure size 900x600 with 1 Axes>"
      ]
     },
     "metadata": {
      "needs_background": "light"
     },
     "output_type": "display_data"
    }
   ],
   "source": [
    "#print(\"dumba\")\n",
    "y0 = np.array([1., 1., 1.])\n",
    "dt = 1e-2\n",
    "ts = np.arange(0, 101*dt, dt) # ts defined for optimization\n",
    "#ts_plot = np.arange(0, 5001*dt, dt) # ts defined for visulization here\n",
    "ode_params_gt = [28., 10., 8./3.]\n",
    "\n",
    "ys_gt_ = odeint(rk4, Lorenz_rhs_func, y0, ts, ode_params_gt)\n",
    "\n",
    "ys_gt = np.vstack((y0[None, ...], ys_gt_))\n",
    "#ys_gt is the array consisting the states or space value over time of Lorenz System\n",
    "fig = plt.figure(figsize=(6, 4), dpi=150)\n",
    "ax = fig.add_subplot(projection='3d')\n",
    "x0, x1, x2 = ys_gt.T\n",
    "ax.plot(x0, x1, x2, lw=0.5, color='b')"
   ]
  },
  {
   "cell_type": "markdown",
   "id": "29efa401",
   "metadata": {},
   "source": [
    "### Compute derivatives with several methods"
   ]
  },
  {
   "cell_type": "markdown",
   "id": "cca6dd25",
   "metadata": {},
   "source": [
    "#### Finite Difference Based Gradient Computing Function\n",
    "\n",
    "$$\\frac{d}{dt}f(x)=\\lim_{h \\to 0} \\frac{f(x+h)-f(x-h)}{2h} $$"
   ]
  },
  {
   "cell_type": "code",
   "execution_count": 6,
   "id": "a3fc8ff6",
   "metadata": {},
   "outputs": [],
   "source": [
    "def compute_gradient_fd(ys, ts, obj_func, state_rhs_func, ode_params):\n",
    "    print(f\"running finite difference\")\n",
    "    \n",
    "    y0 = ys[0]\n",
    "    h = 1e-1\n",
    "    ode_params_flat, unravel = ravel_pytree(ode_params)\n",
    "\n",
    "    grads = []\n",
    "    for i in range(len(ode_params_flat)):\n",
    "        ode_params_flat_plus = ode_params_flat.at[i].add(h)\n",
    "        ys_plus_ = odeint(rk4, state_rhs_func, y0, ts, unravel(ode_params_flat_plus))\n",
    "        tau_plus = obj_func(ys_plus_[-1])\n",
    "           \n",
    "        ode_params_flat_minus = ode_params_flat.at[i].add(-h)\n",
    "        ys_minus_ = odeint(rk4, state_rhs_func, y0, ts, unravel(ode_params_flat_minus))\n",
    "        tau_minus = obj_func(ys_minus_[-1])\n",
    "        \n",
    "        grad = (tau_plus - tau_minus) / (2 * h)\n",
    "        grads.append(grad)\n",
    "\n",
    "    grads = unravel(np.array(grads))\n",
    "\n",
    "    return grads"
   ]
  },
  {
   "cell_type": "code",
   "execution_count": 7,
   "id": "28c3b707",
   "metadata": {},
   "outputs": [],
   "source": [
    "# a = 1,2,3\n",
    "# print(a)\n",
    "# b, unravel = ravel_pytree(a)\n",
    "# print(b)\n",
    "# c = unravel(b)\n",
    "# print(c)"
   ]
  },
  {
   "cell_type": "markdown",
   "id": "22e04af9",
   "metadata": {},
   "source": [
    "#### Automatic Differentiation\n",
    "\n",
    "In automatic differentiation (AD), numerical methods like finite differences are not used for calculating derivatives in each step. Instead, AD relies on symbolic manipulation or dual numbers to compute exact derivatives. This is one of the fundamental differences between AD and numerical differentiation methods, such as finite differences.\n",
    "\n",
    "Here's a brief explanation of how derivatives are calculated in each step of AD without numerical approximation:\n",
    "\n",
    "Symbolic Manipulation: In the forward and reverse modes of AD, derivatives are calculated symbolically, not numerically. This means that the elementary operations used to compute the derivative are represented in terms of their symbolic derivatives. \n",
    "\n",
    "Dual Numbers: Dual numbers are an extension of real numbers that include an infinitesimal component (ε). In AD, dual numbers are used to simultaneously track the function value and its derivative. For example, if x is a dual number representing a variable, it might be written as x = a + ε * b, where a is the function value, and b is its derivative with respect to x. As you perform operations on dual numbers, AD updates both the function value and its derivative using the rules of elementary calculus.\n",
    "\n",
    "Chain Rule: AD applies the chain rule systematically during the calculation of derivatives. When you have a composite function, AD knows how to combine the derivatives of elementary operations using the chain rule to compute the derivative of the entire function.\n",
    "\n",
    "By working symbolically with dual numbers and using the chain rule, AD can compute derivatives accurately and efficiently without the need for numerical approximations. This allows it to calculate derivatives at each step of the computation, providing exact gradients or derivatives rather than approximations that would be obtained through numerical methods like finite differences."
   ]
  },
  {
   "cell_type": "code",
   "execution_count": 8,
   "id": "25ff04e5",
   "metadata": {},
   "outputs": [],
   "source": [
    "def compute_gradient_ad_diff_through_loops(ys, ts, obj_func, state_rhs_func, ode_params):\n",
    "    print(f\"running autodiff, differentiate through loops\")\n",
    "\n",
    "    y0 = ys[0]\n",
    "    def func(ode_params):\n",
    "        ys_ = odeint(rk4, state_rhs_func, y0, ts, ode_params)\n",
    "        return obj_func(ys_[-1])\n",
    "\n",
    "    #jax.grad(FUNCTION) is afunction fron jax library which is used for differentiating \"FUNCTION\" using automatic differentiation\n",
    "    grad_func = jax.grad(func)\n",
    "    grads = grad_func(ode_params)\n",
    "    \n",
    "    return grads"
   ]
  },
  {
   "cell_type": "code",
   "execution_count": 9,
   "id": "7f485cca",
   "metadata": {},
   "outputs": [
    {
     "name": "stdout",
     "output_type": "stream",
     "text": [
      "running finite difference\n"
     ]
    },
    {
     "name": "stdout",
     "output_type": "stream",
     "text": [
      "grads = [Array(-7.501421, dtype=float32), Array(16.432524, dtype=float32), Array(-102.63889, dtype=float32)]\n",
      "\n",
      "running autodiff, differentiate through loops\n"
     ]
    },
    {
     "name": "stdout",
     "output_type": "stream",
     "text": [
      "grads = [Array(-7.498921, dtype=float32, weak_type=True), Array(16.436684, dtype=float32, weak_type=True), Array(-102.749664, dtype=float32, weak_type=True)]\n",
      "\n"
     ]
    }
   ],
   "source": [
    "import time\n",
    "\n",
    "def obj_func(yf, target_yf):\n",
    "    return np.sum((yf - target_yf)**2)\n",
    "\n",
    "target_yf = ys_gt_[-1]\n",
    "obj_func_partial = lambda yf: obj_func(yf, target_yf)\n",
    "\n",
    "# ode_params_0 = [np.array([26., 8., 2.])]\n",
    "ode_params_0 = [26., 8., 2.]\n",
    "\n",
    "ys_ = odeint(rk4, Lorenz_rhs_func, y0, ts, ode_params_0)\n",
    "ys = np.vstack((y0[None, ...], ys_))\n",
    "\n",
    "\n",
    "grads_fd = compute_gradient_fd(ys, ts, obj_func_partial, Lorenz_rhs_func, ode_params_0)\n",
    "print(f\"grads = {grads_fd}\\n\")\n",
    "\n",
    "grads_ad_diff_through_loops = compute_gradient_ad_diff_through_loops(ys, ts, obj_func_partial, Lorenz_rhs_func, ode_params_0)\n",
    "print(f\"grads = {grads_ad_diff_through_loops}\\n\")\n",
    "\n"
   ]
  },
  {
   "cell_type": "markdown",
   "id": "b6cff690",
   "metadata": {},
   "source": [
    "The case study above demonstrates that both finite difference methods and automatic differentiation (autodiff) yield approximately similar results. In our next simplified example, we will illustrate how autodiff not only achieves greater accuracy but also proves to be more efficient than the finite difference method."
   ]
  },
  {
   "cell_type": "code",
   "execution_count": 10,
   "id": "742f9b8b",
   "metadata": {},
   "outputs": [
    {
     "name": "stdout",
     "output_type": "stream",
     "text": [
      "2.24 ms ± 49.9 µs per loop (mean ± std. dev. of 7 runs, 100 loops each)\n",
      "[2.50000000e-01 1.96611933e-01 1.04993585e-01 4.51766597e-02\n",
      " 1.76627062e-02 6.64805667e-03 2.46650929e-03 9.10221180e-04\n",
      " 3.35237671e-04 1.23379350e-04 4.53958077e-05 1.67011429e-05\n",
      " 6.14413685e-06 2.26031919e-06 8.31527336e-07 3.05902133e-07\n",
      " 1.12535149e-07 4.13993738e-08 1.52299793e-08 5.60279637e-09\n",
      " 2.06115361e-09 7.58256042e-10 2.78946809e-10 1.02618796e-10\n",
      " 3.77513454e-11 1.38879439e-11 5.10908903e-12 1.87952882e-12\n",
      " 6.91440011e-13 2.54366565e-13 9.35762297e-14 3.44247711e-14\n",
      " 1.26641655e-14 4.65888615e-15 1.71390843e-15 6.30511676e-16\n",
      " 2.31952283e-16 8.53304763e-17 3.13913279e-17 1.15482242e-17\n",
      " 4.24835426e-18 1.56288219e-18 5.74952226e-19 2.11513104e-19\n",
      " 7.78113224e-20 2.86251858e-20 1.05306174e-20 3.87399763e-21\n",
      " 1.42516408e-21 5.24288566e-22 1.92874985e-22 7.09547416e-23\n",
      " 2.61027907e-23 9.60268005e-24 3.53262857e-24 1.29958143e-24\n",
      " 4.78089288e-25 1.75879220e-25 6.47023493e-26 2.38026641e-26\n",
      " 8.75651076e-27 3.22134029e-27 1.18506486e-27 4.35961000e-28\n",
      " 1.60381089e-28 5.90009054e-29 2.17052201e-29 7.98490425e-30\n",
      " 2.93748211e-30 1.08063928e-30 3.97544974e-31 1.46248623e-31\n",
      " 5.38018616e-32 1.97925988e-32 7.28129018e-33 2.67863696e-33\n",
      " 9.85415469e-34 3.62514092e-34 1.33361482e-34 4.90609473e-35\n",
      " 1.80485139e-35 6.63967720e-36 2.44260074e-36 8.98582594e-37\n",
      " 3.30570063e-37 1.21609930e-37 4.47377931e-38 1.64581143e-38\n",
      " 6.05460190e-39 2.22736356e-39 8.19401262e-40 3.01440879e-40\n",
      " 1.10893902e-40 4.07955867e-41 1.50078576e-41 5.52108228e-42\n",
      " 2.03109266e-42 7.47197234e-43 2.74878501e-43 1.01122149e-43]\n"
     ]
    }
   ],
   "source": [
    "from numpy.matrixlib import defmatrix\n",
    "from jax.config import config\n",
    "config.update(\"jax_enable_x64\", True)\n",
    "\n",
    "def sum_logistic(x):\n",
    "  return np.sum(1.0 / (1.0 + np.exp(-x)))\n",
    "\n",
    "x_small = np.arange(100.)\n",
    "#y_small = np.linspace(0,3,100)\n",
    "\n",
    "derivative_fn = jax.grad(sum_logistic)  # define a function which is the gradient of sum_logistic\n",
    "%timeit derivative_fn(x_small)\n",
    "print(derivative_fn(x_small))"
   ]
  },
  {
   "cell_type": "code",
   "execution_count": 11,
   "id": "c2bfd762",
   "metadata": {},
   "outputs": [
    {
     "name": "stdout",
     "output_type": "stream",
     "text": [
      "12.6 ms ± 343 µs per loop (mean ± std. dev. of 7 runs, 1 loop each)\n",
      "[2.49999999e-01 1.96611936e-01 1.04993582e-01 4.51766624e-02\n",
      " 1.76626997e-02 6.64805810e-03 2.46650700e-03 9.10219455e-04\n",
      " 3.35241168e-04 1.23378641e-04 4.53965754e-05 1.66977543e-05\n",
      " 6.14619466e-06 2.25952590e-06 8.31335001e-07 3.05533376e-07\n",
      " 1.13686838e-07 4.26325641e-08 1.42108547e-08 7.10542736e-09\n",
      " 7.10542736e-09 0.00000000e+00 0.00000000e+00 0.00000000e+00\n",
      " 0.00000000e+00 0.00000000e+00 0.00000000e+00 0.00000000e+00\n",
      " 0.00000000e+00 0.00000000e+00 0.00000000e+00 0.00000000e+00\n",
      " 0.00000000e+00 0.00000000e+00 0.00000000e+00 0.00000000e+00\n",
      " 0.00000000e+00 0.00000000e+00 0.00000000e+00 0.00000000e+00\n",
      " 0.00000000e+00 0.00000000e+00 0.00000000e+00 0.00000000e+00\n",
      " 0.00000000e+00 0.00000000e+00 0.00000000e+00 0.00000000e+00\n",
      " 0.00000000e+00 0.00000000e+00 0.00000000e+00 0.00000000e+00\n",
      " 0.00000000e+00 0.00000000e+00 0.00000000e+00 0.00000000e+00\n",
      " 0.00000000e+00 0.00000000e+00 0.00000000e+00 0.00000000e+00\n",
      " 0.00000000e+00 0.00000000e+00 0.00000000e+00 0.00000000e+00\n",
      " 0.00000000e+00 0.00000000e+00 0.00000000e+00 0.00000000e+00\n",
      " 0.00000000e+00 0.00000000e+00 0.00000000e+00 0.00000000e+00\n",
      " 0.00000000e+00 0.00000000e+00 0.00000000e+00 0.00000000e+00\n",
      " 0.00000000e+00 0.00000000e+00 0.00000000e+00 0.00000000e+00\n",
      " 0.00000000e+00 0.00000000e+00 0.00000000e+00 0.00000000e+00\n",
      " 0.00000000e+00 0.00000000e+00 0.00000000e+00 0.00000000e+00\n",
      " 0.00000000e+00 0.00000000e+00 0.00000000e+00 0.00000000e+00\n",
      " 0.00000000e+00 0.00000000e+00 0.00000000e+00 0.00000000e+00\n",
      " 0.00000000e+00 0.00000000e+00 0.00000000e+00 0.00000000e+00]\n"
     ]
    }
   ],
   "source": [
    "def first_finite_differences(f, x):\n",
    "  eps = 1e-6\n",
    "  return np.array([(f(x + eps * v) - f(x - eps * v)) / (2 * eps)\n",
    "                   for v in np.eye(len(x))])\n",
    "\n",
    "%timeit first_finite_differences(sum_logistic, x_small)\n",
    "print(first_finite_differences(sum_logistic, x_small))"
   ]
  },
  {
   "cell_type": "markdown",
   "id": "0bbe03ee",
   "metadata": {},
   "source": [
    "### Optimization"
   ]
  },
  {
   "cell_type": "code",
   "execution_count": 12,
   "id": "7631f711",
   "metadata": {},
   "outputs": [],
   "source": [
    "\n",
    "## optimize(ode_params_0, y0, ts, obj_func_partial, Lorenz_rhs_func, bounds, compute_gradient_fd)\n",
    "\n",
    "def optimize(ode_params_0, y0, ts, obj_func, state_rhs_func, bounds, compute_gradient_func):\n",
    "    x_ini, unravel = ravel_pytree(ode_params_0)\n",
    "    obj_vals = []\n",
    "\n",
    "    def objective(x):\n",
    "        print(f\"\\n######################### Evaluating objective value - step {objective.counter}\")\n",
    "        x = np.array(x)\n",
    "        ode_params = unravel(x)\n",
    "        ys_ = odeint(rk4, state_rhs_func, y0, ts, ode_params)\n",
    "        ys = np.vstack((y0[None, ...], ys_))\n",
    "        obj_val = obj_func(ys[-1])\n",
    "\n",
    "        objective.ode_params = ode_params\n",
    "        objective.ys = ys\n",
    "        objective.x = ode_params\n",
    "\n",
    "        objective.counter += 1\n",
    "        obj_vals.append(obj_val)\n",
    "\n",
    "        print(f\"obj_val = {obj_val}\")\n",
    "        print(f\"ode_params = {ode_params}\")\n",
    "        print(f\"ys[-1] = {ys[-1]}\")\n",
    "\n",
    "        return obj_val\n",
    "\n",
    "    def derivative(x):\n",
    "        ode_params = objective.ode_params\n",
    "        ys = objective.ys\n",
    "\n",
    "        grads = compute_gradient_func(ys, ts, obj_func, state_rhs_func, ode_params)\n",
    "        print(f\"########################################################\")\n",
    "        print(f\"grads = {grads}\")\n",
    "        print(f\"########################################################\")\n",
    "\n",
    "        grads_ravelled, _ = ravel_pytree(grads)\n",
    "        # 'L-BFGS-B' requires the following conversion, otherwise we get an error message saying\n",
    "        # -- input not fortran contiguous -- expected elsize=8 but got 4\n",
    "        return onp.array(grads_ravelled, order='F', dtype=onp.float64)\n",
    "\n",
    "    objective.counter = 0\n",
    "    options = {'maxiter': 1000, 'disp': True}  # CG or L-BFGS-B or Newton-CG or SLSQP\n",
    "    res = opt.minimize(fun=objective,\n",
    "                       x0=x_ini,\n",
    "                       method='SLSQP',\n",
    "                       jac=derivative,\n",
    "                       bounds=bounds,\n",
    "                       callback=None,\n",
    "                       options=options)\n",
    "        \n",
    "    return objective.x"
   ]
  },
  {
   "cell_type": "markdown",
   "id": "4fa2d33e",
   "metadata": {},
   "source": [
    "### Solving the inverse problem using Finite Difference Method"
   ]
  },
  {
   "cell_type": "code",
   "execution_count": 13,
   "id": "3e8e1d4e",
   "metadata": {},
   "outputs": [
    {
     "name": "stdout",
     "output_type": "stream",
     "text": [
      "\n",
      "######################### Evaluating objective value - step 0\n"
     ]
    },
    {
     "name": "stdout",
     "output_type": "stream",
     "text": [
      "obj_val = 4.860941287589725\n",
      "ode_params = [Array(26., dtype=float64), Array(8., dtype=float64), Array(2.66666667, dtype=float64)]\n",
      "ys[-1] = [-10.52796043 -10.17111714  28.86326064]\n",
      "running finite difference\n",
      "########################################################\n",
      "grads = [Array(-6.92301708, dtype=float64), Array(-5.14942292, dtype=float64), Array(18.96074537, dtype=float64)]\n",
      "########################################################\n",
      "\n",
      "######################### Evaluating objective value - step 1\n",
      "obj_val = 4.410157956860218\n",
      "ode_params = [Array(30., dtype=float64), Array(12., dtype=float64), Array(2.66666667, dtype=float64)]\n",
      "ys[-1] = [-9.98216602 -9.483049   31.02914495]\n",
      "\n",
      "######################### Evaluating objective value - step 2\n",
      "obj_val = 4.5308537838420157e-05\n",
      "ode_params = [Array(28.01884586, dtype=float64), Array(10.01884586, dtype=float64), Array(2.66666667, dtype=float64)]\n",
      "ys[-1] = [-9.37604064 -8.36218931 29.36591822]\n",
      "running finite difference\n"
     ]
    },
    {
     "name": "stdout",
     "output_type": "stream",
     "text": [
      "########################################################\n",
      "grads = [Array(-0.00014405, dtype=float64), Array(0.00261211, dtype=float64), Array(-0.55425541, dtype=float64)]\n",
      "########################################################\n",
      "\n",
      "######################### Evaluating objective value - step 3\n",
      "obj_val = 4.3328425968302456e-05\n",
      "ode_params = [Array(28.01976363, dtype=float64), Array(10.01664552, dtype=float64), Array(2.66666667, dtype=float64)]\n",
      "ys[-1] = [-9.37537389 -8.36062631 29.36688514]\n",
      "running finite difference\n",
      "########################################################\n",
      "grads = [Array(0.00207508, dtype=float64), Array(5.73364305e-05, dtype=float64), Array(-0.53331802, dtype=float64)]\n",
      "########################################################\n",
      "\n",
      "######################### Evaluating objective value - step 4\n",
      "obj_val = 4.106380298681398e-05\n",
      "ode_params = [Array(28.01908555, dtype=float64), Array(10.01675259, dtype=float64), Array(2.66666667, dtype=float64)]\n",
      "ys[-1] = [-9.37560073 -8.36089563 29.36655643]\n",
      "running finite difference\n",
      "########################################################\n",
      "grads = [Array(0.00147836, dtype=float64), Array(0.00061734, dtype=float64), Array(-0.53849249, dtype=float64)]\n",
      "########################################################\n",
      "\n",
      "######################### Evaluating objective value - step 5\n",
      "obj_val = 3.2963945786474016e-05\n",
      "ode_params = [Array(28.01660262, dtype=float64), Array(10.01577886, dtype=float64), Array(2.66666667, dtype=float64)]\n",
      "ys[-1] = [-9.37619325 -8.36108683 29.3657001 ]\n",
      "running finite difference\n",
      "########################################################\n",
      "grads = [Array(0.00022877, dtype=float64), Array(0.00147527, dtype=float64), Array(-0.54818684, dtype=float64)]\n",
      "########################################################\n",
      "\n",
      "######################### Evaluating objective value - step 6\n",
      "obj_val = 2.2305330989485424e-05\n",
      "ode_params = [Array(28.01328149, dtype=float64), Array(10.01327813, dtype=float64), Array(2.66666667, dtype=float64)]\n",
      "ys[-1] = [-9.37677993 -8.36064907 29.36486189]\n",
      "running finite difference\n"
     ]
    },
    {
     "name": "stdout",
     "output_type": "stream",
     "text": [
      "########################################################\n",
      "grads = [Array(-0.00062246, dtype=float64), Array(0.00158433, dtype=float64), Array(-0.55303034, dtype=float64)]\n",
      "########################################################\n",
      "\n",
      "######################### Evaluating objective value - step 7\n",
      "obj_val = 1.3800534692919301e-05\n",
      "ode_params = [Array(28.01067905, dtype=float64), Array(10.01033877, dtype=float64), Array(2.66666667, dtype=float64)]\n",
      "ys[-1] = [-9.37707385 -8.35974055 29.36446013]\n",
      "running finite difference\n",
      "########################################################\n",
      "grads = [Array(-0.00061286, dtype=float64), Array(0.0008233, dtype=float64), Array(-0.55015333, dtype=float64)]\n",
      "########################################################\n",
      "Optimization terminated successfully    (Exit mode 0)\n",
      "            Current function value: 1.3800534692919301e-05\n",
      "            Iterations: 7\n",
      "            Function evaluations: 8\n",
      "            Gradient evaluations: 7\n",
      "\n",
      "Ground truth parameter values = [28.0, 10.0, 2.6666666666666665]\n",
      "Ground truth yf = [-9.378615  -8.3570595 29.362402 ]\n",
      "\n",
      "Initial parameter values = [26.0, 8.0, 2.0]\n",
      "Optimized parameter values = [Array(28.01067905, dtype=float64), Array(10.01033877, dtype=float64), Array(2.66666667, dtype=float64)]\n",
      "Optimized yf = [-9.37707385 -8.35974055 29.36446013]\n"
     ]
    }
   ],
   "source": [
    "#just some arrays containing two variables, probably x, y space value, let's see\n",
    "\n",
    "bounds = np.array([[26., 30.], [8., 12.], [8./3., 8./3.]])\n",
    "\n",
    "#calling the main optimizing function, let's go to optimize function, it takes 7 input arguments\n",
    "\n",
    "\n",
    "ode_params_opt = optimize(ode_params_0, y0, ts, obj_func_partial, Lorenz_rhs_func, bounds, compute_gradient_fd)\n",
    "\n",
    "\n",
    "\n",
    "#optimized ode paramaters derived from optimize function would be an inpur argument of odeint function\n",
    "\n",
    "ys_ = odeint(rk4, Lorenz_rhs_func, y0, ts, ode_params_opt)\n",
    "\n",
    "print(f\"\\nGround truth parameter values = {ode_params_gt}\")\n",
    "print(f\"Ground truth yf = {target_yf}\")\n",
    "print(f\"\\nInitial parameter values = {ode_params_0}\")\n",
    "print(f\"Optimized parameter values = {ode_params_opt}\")\n",
    "print(f\"Optimized yf = {ys_[-1]}\")"
   ]
  },
  {
   "cell_type": "markdown",
   "id": "47c106db",
   "metadata": {},
   "source": [
    "### Solving the inverse problem using Automatic Differentiation Method"
   ]
  },
  {
   "cell_type": "code",
   "execution_count": 14,
   "id": "172fabdb",
   "metadata": {},
   "outputs": [
    {
     "name": "stdout",
     "output_type": "stream",
     "text": [
      "\n",
      "######################### Evaluating objective value - step 0\n",
      "obj_val = 4.860941287589725\n",
      "ode_params = [Array(26., dtype=float64), Array(8., dtype=float64), Array(2.66666667, dtype=float64)]\n",
      "ys[-1] = [-10.52796043 -10.17111714  28.86326064]\n",
      "running autodiff, differentiate through loops\n"
     ]
    },
    {
     "name": "stdout",
     "output_type": "stream",
     "text": [
      "########################################################\n",
      "grads = [Array(-6.91298213, dtype=float64), Array(-5.130735, dtype=float64), Array(19.05076497, dtype=float64)]\n",
      "########################################################\n",
      "\n",
      "######################### Evaluating objective value - step 1\n",
      "obj_val = 4.410157956860218\n",
      "ode_params = [Array(30., dtype=float64), Array(12., dtype=float64), Array(2.66666667, dtype=float64)]\n",
      "ys[-1] = [-9.98216602 -9.483049   31.02914495]\n",
      "\n",
      "######################### Evaluating objective value - step 2\n",
      "obj_val = 4.5530123214976924e-05\n",
      "ode_params = [Array(28.01889123, dtype=float64), Array(10.01889123, dtype=float64), Array(2.66666667, dtype=float64)]\n",
      "ys[-1] = [-9.37603467 -8.36220193 29.36592691]\n",
      "running autodiff, differentiate through loops\n"
     ]
    },
    {
     "name": "stdout",
     "output_type": "stream",
     "text": [
      "########################################################\n",
      "grads = [Array(0.0015845, dtype=float64), Array(0.00330562, dtype=float64), Array(-0.00253483, dtype=float64)]\n",
      "########################################################\n",
      "\n",
      "######################### Evaluating objective value - step 3\n",
      "obj_val = 4.1048447656296876e-05\n",
      "ode_params = [Array(28.01911315, dtype=float64), Array(10.01666937, dtype=float64), Array(2.66666667, dtype=float64)]\n",
      "ys[-1] = [-9.37557771 -8.36083868 29.36658988]\n",
      "running autodiff, differentiate through loops\n"
     ]
    },
    {
     "name": "stdout",
     "output_type": "stream",
     "text": [
      "########################################################\n",
      "grads = [Array(0.00328236, dtype=float64), Array(0.00121416, dtype=float64), Array(0.01374493, dtype=float64)]\n",
      "########################################################\n",
      "\n",
      "######################### Evaluating objective value - step 4\n",
      "obj_val = 3.360539721002528e-05\n",
      "ode_params = [Array(28.01746655, dtype=float64), Array(10.01439108, dtype=float64), Array(2.66666667, dtype=float64)]\n",
      "ys[-1] = [-9.3756862  -8.3600138  29.36643895]\n",
      "running autodiff, differentiate through loops\n"
     ]
    },
    {
     "name": "stdout",
     "output_type": "stream",
     "text": [
      "########################################################\n",
      "grads = [Array(0.00358246, dtype=float64), Array(0.00035915, dtype=float64), Array(0.01818499, dtype=float64)]\n",
      "########################################################\n",
      "\n",
      "######################### Evaluating objective value - step 5\n",
      "obj_val = 5.834839648128331e-06\n",
      "ode_params = [Array(28.00678528, dtype=float64), Array(10.00410361, dtype=float64), Array(2.66666667, dtype=float64)]\n",
      "ys[-1] = [-9.3772091  -8.35732328 29.36434815]\n",
      "running autodiff, differentiate through loops\n"
     ]
    },
    {
     "name": "stdout",
     "output_type": "stream",
     "text": [
      "########################################################\n",
      "grads = [Array(0.00243928, dtype=float64), Array(-0.00119133, dtype=float64), Array(0.01707735, dtype=float64)]\n",
      "########################################################\n",
      "\n",
      "######################### Evaluating objective value - step 6\n",
      "obj_val = 2.3090861427081626e-07\n",
      "ode_params = [Array(28.00056728, dtype=float64), Array(9.99978854, dtype=float64), Array(2.66666667, dtype=float64)]\n",
      "ys[-1] = [-9.3784044  -8.35675983 29.36271278]\n",
      "running autodiff, differentiate through loops\n"
     ]
    },
    {
     "name": "stdout",
     "output_type": "stream",
     "text": [
      "########################################################\n",
      "grads = [Array(0.0005957, dtype=float64), Array(-0.00058269, dtype=float64), Array(0.00519343, dtype=float64)]\n",
      "########################################################\n",
      "Optimization terminated successfully    (Exit mode 0)\n",
      "            Current function value: 2.3090861427081626e-07\n",
      "            Iterations: 6\n",
      "            Function evaluations: 7\n",
      "            Gradient evaluations: 6\n",
      "\n",
      "Ground truth parameter values = [28.0, 10.0, 2.6666666666666665]\n",
      "Ground truth yf = [-9.378615  -8.3570595 29.362402 ]\n",
      "\n",
      "Initial parameter values = [26.0, 8.0, 2.0]\n",
      "Optimized parameter values = [Array(28.00056728, dtype=float64), Array(9.99978854, dtype=float64), Array(2.66666667, dtype=float64)]\n",
      "Optimized yf = [-9.3784044  -8.35675983 29.36271278]\n"
     ]
    }
   ],
   "source": [
    "#just some arrays containing two variables, probably x, y space value, let's see\n",
    "\n",
    "bounds = np.array([[26., 30.], [8., 12.], [8./3., 8./3.]])\n",
    "\n",
    "#calling the main optimizing function, let's go to optimize function, it takes 7 input arguments\n",
    "\n",
    "\n",
    "ode_params_opt = optimize(ode_params_0, y0, ts, obj_func_partial, Lorenz_rhs_func, bounds, compute_gradient_ad_diff_through_loops)\n",
    "\n",
    "\n",
    "\n",
    "#optimized ode paramaters derived from optimize function would be an inpur argument of odeint function\n",
    "\n",
    "ys_ = odeint(rk4, Lorenz_rhs_func, y0, ts, ode_params_opt)\n",
    "\n",
    "print(f\"\\nGround truth parameter values = {ode_params_gt}\")\n",
    "print(f\"Ground truth yf = {target_yf}\")\n",
    "print(f\"\\nInitial parameter values = {ode_params_0}\")\n",
    "print(f\"Optimized parameter values = {ode_params_opt}\")\n",
    "print(f\"Optimized yf = {ys_[-1]}\")"
   ]
  }
 ],
 "metadata": {
  "kernelspec": {
   "display_name": "Python 3 (ipykernel)",
   "language": "python",
   "name": "python3"
  },
  "language_info": {
   "codemirror_mode": {
    "name": "ipython",
    "version": 3
   },
   "file_extension": ".py",
   "mimetype": "text/x-python",
   "name": "python",
   "nbconvert_exporter": "python",
   "pygments_lexer": "ipython3",
   "version": "3.10.6"
  }
 },
 "nbformat": 4,
 "nbformat_minor": 5
}