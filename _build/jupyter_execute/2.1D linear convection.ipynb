{
 "cells": [
  {
   "cell_type": "markdown",
   "id": "2163441a",
   "metadata": {},
   "source": [
    "Hello! Welcome to the practical module that is used in the beginning of an interactive Computational Fluid Dynamics (CFD) course. The course assumes only basic programming knowledge (in any language) and of course some foundation in partial differential equations and fluid mechanics. The course is taught entirely using Python and students who don't know Python just learn as we work through the module.\n",
    "\n",
    "This Jupyter notebook will lead you through the first step of programming your own Navier–Stokes solver in Python from the ground up. We're going to dive right in. Don't worry if you don't understand everything that's happening at first, we'll cover it in detail as we move forward and you can support your learning.\n",
    "\n",
    "For best results, after you follow this notebook, prepare your own code, either as a Python script or in a clean Jupyter notebook.\n",
    "\n",
    "To execute this Notebook, we assume you have invoked the notebook server using: jupyter notebook."
   ]
  },
  {
   "cell_type": "markdown",
   "id": "120ed267",
   "metadata": {},
   "source": [
    "Step 1: 1-D Linear Convection\n",
    "-----\n",
    "***"
   ]
  },
  {
   "cell_type": "markdown",
   "id": "2b0f77c7",
   "metadata": {},
   "source": [
    "The 1-D Linear Convection equation is the simplest, most basic model that can be used to learn something about CFD. It is surprising that this little equation can teach us so much! Here it is:\n",
    "\n",
    "$$\\frac{\\partial u}{\\partial t} + c \\frac{\\partial u}{\\partial x} = 0$$\n",
    "\n",
    "With given initial conditions (understood as a *wave*), the equation represents the propagation of that initial *wave* with speed $c$, without change of shape. Let the initial condition be $u(x,0)=u_0(x)$. Then the exact solution of the equation is $u(x,t)=u_0(x-ct)$.\n",
    "\n",
    "We discretize this equation in both space and time, using the Forward Difference scheme for the time derivative and the Backward Difference scheme for the space derivative. Consider discretizing the spatial coordinate $x$ into points that we index from $i=0$ to $N$, and stepping in discrete time intervals of size $\\Delta t$.\n",
    "\n",
    "From the definition of a derivative (and simply removing the limit), we know that:\n",
    "\n",
    "$$\\frac{\\partial u}{\\partial x}\\approx \\frac{u(x+\\Delta x)-u(x)}{\\Delta x}$$\n",
    "\n",
    "Our discrete equation, then, is:\n",
    "\n",
    "$$\\frac{u_i^{n+1}-u_i^n}{\\Delta t} + c \\frac{u_i^n - u_{i-1}^n}{\\Delta x} = 0 $$\n",
    "\n",
    "Where $n$ and $n+1$ are two consecutive steps in time, while $i-1$ and $i$ are two neighboring points of the discretized $x$ coordinate. If there are given initial conditions, then the only unknown in this discretization is $u_i^{n+1}$.  We can solve for our unknown to get an equation that allows us to advance in time, as follows:\n",
    "\n",
    "$$u_i^{n+1} = u_i^n - c \\frac{\\Delta t}{\\Delta x}(u_i^n-u_{i-1}^n)$$\n",
    "\n",
    "Now let's try implementing this in Python.  \n",
    "\n",
    "We'll start by importing a few libraries to help us out.\n",
    "\n",
    "* `numpy` is a library that provides a bunch of useful matrix operations akin to MATLAB\n",
    "* `matplotlib` is a 2D plotting library that we will use to plot our results\n",
    "* `time` and `sys` provide basic timing functions that we'll use to slow down animations for viewing\n",
    "\n",
    "**It is a conservative discretization scheme, discreitized from the conservative form of the equation.**"
   ]
  },
  {
   "cell_type": "code",
   "execution_count": 1,
   "id": "d3889637",
   "metadata": {},
   "outputs": [],
   "source": [
    "# Remember: comments in python are denoted by the pound sign\n",
    "import numpy as np                 #here we load numpy and create a shortcut np\n",
    "from matplotlib import pyplot      #here we load matplotlib\n",
    "import time, sys                   #and load some utilities\n",
    "\n",
    "#this makes matplotlib plots appear in the notebook (instead of a separate window)\n",
    "%matplotlib inline    "
   ]
  },
  {
   "cell_type": "markdown",
   "id": "05f96f98",
   "metadata": {},
   "source": [
    "Now let's define a few variables; we want to define an evenly spaced grid of points within a spatial domain that is 2 units of length wide, i.e., $x_i\\in(0,2)$.  We'll define a variable `nx`, which will be the number of grid points we want and `dx` will be the distance between any pair of adjacent grid points.  "
   ]
  },
  {
   "cell_type": "code",
   "execution_count": 2,
   "id": "d52593ec",
   "metadata": {},
   "outputs": [
    {
     "data": {
      "text/plain": [
       "0.025"
      ]
     },
     "execution_count": 2,
     "metadata": {},
     "output_type": "execute_result"
    }
   ],
   "source": [
    "nx = 81 # try changing this number from 41 to 81 and Run All... What happens?\n",
    "dx = 2 / (nx-1)  # delta x\n",
    "dx"
   ]
  },
  {
   "cell_type": "code",
   "execution_count": 3,
   "id": "5cc2b0b1",
   "metadata": {},
   "outputs": [],
   "source": [
    "nt = 20     #nt is the number of timesteps we want to calculate\n",
    "dt = 0.025  #dt is the number of time that each timestep covers (delta t)\n",
    "c = -1     #assumewavespeed of c = 1"
   ]
  },
  {
   "cell_type": "markdown",
   "id": "a11a84e3",
   "metadata": {},
   "source": [
    "We also need to set up our initial conditions. The initial velocity $u_0$ is given as \n",
    "$u = 2$ in the interval $0.5 \\leq x \\leq 1$  and $u = 1$ everywhere else in $(0,2)$ (i.e., a hat function).\n",
    "\n",
    "Here, we use the function `ones()` defining a `numpy` array which is `nx` elements long with every value equal to 1."
   ]
  },
  {
   "cell_type": "code",
   "execution_count": 4,
   "id": "53c64308",
   "metadata": {},
   "outputs": [
    {
     "name": "stdout",
     "output_type": "stream",
     "text": [
      "[1. 1. 1. 1. 1. 1. 1. 1. 1. 1. 1. 1. 1. 1. 1. 1. 1. 1. 1. 1. 2. 2. 2. 2.\n",
      " 2. 2. 2. 2. 2. 2. 2. 2. 2. 2. 2. 2. 2. 2. 2. 2. 2. 1. 1. 1. 1. 1. 1. 1.\n",
      " 1. 1. 1. 1. 1. 1. 1. 1. 1. 1. 1. 1. 1. 1. 1. 1. 1. 1. 1. 1. 1. 1. 1. 1.\n",
      " 1. 1. 1. 1. 1. 1. 1. 1. 1.]\n"
     ]
    }
   ],
   "source": [
    "u = np.ones(nx)      #numpy function ones()\n",
    "u[int(.5 / dx):int(1 / dx + 1)] = 2  #setting u = 2 between 0.5 and 1 as per our I.C.s\n",
    "print(u)\n",
    "#print(np.linspace(0, 2, nx))"
   ]
  },
  {
   "cell_type": "code",
   "execution_count": 5,
   "id": "cce60655",
   "metadata": {},
   "outputs": [
    {
     "data": {
      "text/plain": [
       "1"
      ]
     },
     "execution_count": 5,
     "metadata": {},
     "output_type": "execute_result"
    }
   ],
   "source": [
    "int(3.9 / 2)  # int() truncates the decimal part"
   ]
  },
  {
   "cell_type": "markdown",
   "id": "60806047",
   "metadata": {},
   "source": [
    "Now let's take a look at those initial conditions using a Matplotlib plot.  We've imported the `matplotlib` plotting library `pyplot` and the plotting function is called `plot`, so we'll call `pyplot.plot`. To learn about the myriad possibilities of Matplotlib, explore the [Gallery](http://matplotlib.org/gallery.html) of example plots.\n",
    "\n",
    "Here, we use the syntax for a simple 2D plot: `plot(x,y)`, where the `x` values are evenly distributed grid points:"
   ]
  },
  {
   "cell_type": "code",
   "execution_count": 6,
   "id": "a870ad43",
   "metadata": {},
   "outputs": [
    {
     "data": {
      "image/png": "[encoded data removed]",
      "text/plain": [
       "<Figure size 432x288 with 1 Axes>"
      ]
     },
     "metadata": {
      "needs_background": "light"
     },
     "output_type": "display_data"
    }
   ],
   "source": [
    "pyplot.plot(np.linspace(0, 2, nx), u);"
   ]
  },
  {
   "cell_type": "markdown",
   "id": "2d6d9c26",
   "metadata": {},
   "source": [
    "Why doesn't the hat function have perfectly straight sides? Think for a bit."
   ]
  },
  {
   "cell_type": "markdown",
   "id": "19e13c84",
   "metadata": {},
   "source": [
    "Now it's time to implement the discretization of the convection equation using a finite-difference scheme.  \n",
    "\n",
    "For every element of our array `u`, we need to perform the operation $u_i^{n+1} = u_i^n - c \\frac{\\Delta t}{\\Delta x}(u_i^n-u_{i-1}^n)$\n",
    "\n",
    "We'll store the result in a new (temporary) array `un`, which will be the solution $u$ for the next time-step.  We will repeat this operation for as many time-steps as we specify and then we can see how far the wave has convected.  \n",
    "\n",
    "We first initialize our placeholder array `un` to hold the values we calculate for the $n+1$ timestep, using once again the NumPy function `ones()`.\n",
    "\n",
    "Then, we may think we have two iterative operations: one in space and one in time (we'll learn differently later), so we'll start by nesting one loop inside the other. Note the use of the nifty `range()` function. "
   ]
  },
  {
   "cell_type": "code",
   "execution_count": 7,
   "id": "b518a88f",
   "metadata": {},
   "outputs": [],
   "source": [
    "un = np.ones(nx) # initialize a temporary array\n",
    "\n",
    "for n in range(nt): # loop n from 0 to nt-1, so it will run nt times\n",
    "    un = u.copy() # copy the existing values of u into un\n",
    "    for i in range(1, nx): # change the range to 0 to nx, and see what happens\n",
    "        u[i] = un[i] - c * dt / dx * (un[i]-un[i-1])\n",
    "        "
   ]
  },
  {
   "cell_type": "markdown",
   "id": "54120fd6",
   "metadata": {},
   "source": [
    "When we write: `for i in range(1,nx)` we will iterate through the `u` array, but we'll be skipping the first element (the zero-th element).  *Why?*"
   ]
  },
  {
   "cell_type": "code",
   "execution_count": 8,
   "id": "2f04aea5",
   "metadata": {},
   "outputs": [
    {
     "data": {
      "image/png": "[encoded data removed]",
      "text/plain": [
       "<Figure size 432x288 with 1 Axes>"
      ]
     },
     "metadata": {
      "needs_background": "light"
     },
     "output_type": "display_data"
    }
   ],
   "source": [
    "pyplot.plot(np.linspace(0, 2, nx), u);"
   ]
  },
  {
   "cell_type": "markdown",
   "id": "1d28692b",
   "metadata": {},
   "source": [
    "OK! So our hat function has definitely moved to the right (its center from 0.75 to 1.25), but it's no longer a hat.  **What's going on?**"
   ]
  },
  {
   "cell_type": "markdown",
   "id": "09ead553",
   "metadata": {},
   "source": [
    "## Accuray of finite difference schemes\n",
    "\n",
    "Taylor expansions:\n",
    "\n",
    "$u(x+\\Delta x)=u(x)+\\Delta x \\frac{\\partial u}{\\partial x}\\big|_x+ \\frac{\\Delta x^2}{2!}\\frac{\\partial^2 u}{\\partial x^2}\\big|_x+\\frac{\\Delta x^3}{3!}\\frac{\\partial^3 u}{\\partial x^3}\\big|_x+...+\\frac{\\Delta x^n}{n!}\\frac{\\partial^n u}{\\partial x^n}\\big|_x+...$\n",
    "\n",
    "$u(x-\\Delta x)=u(x)-\\Delta x \\frac{\\partial u}{\\partial x}\\big|_x+ \\frac{\\Delta x^2}{2!}\\frac{\\partial^2 u}{\\partial x^2}\\big|_x-\\frac{\\Delta x^3}{3!}\\frac{\\partial^3 u}{\\partial x^3}\\big|_x+...+\\frac{\\Delta x^n}{n!}\\frac{\\partial^n u}{\\partial x^n}\\big|_x-...$\n",
    "\n",
    "Reorganize the first Taylor expansion, we get the Forward Differencing scheme  (1st order accuracy):\n",
    "$\\frac{\\partial u}{\\partial x}\\big|_x=\\frac{u(x+\\Delta x)-u(x)}{\\Delta x}+\\frac{\\Delta x}{2!}\\frac{\\partial^2 u}{\\partial x^2}\\big|_x+...=\\frac{u(x+\\Delta x)-u(x)}{\\Delta x}+O(\\Delta x)$\n",
    "\n",
    "Reorganize the second Taylor expansion, we get the Backward Differencing scheme (1st order accuracy):\n",
    "$\\frac{\\partial u}{\\partial x}\\big|_x=\\frac{u(x)-u(x-\\Delta x)}{\\Delta x}+\\frac{\\Delta x}{2!}\\frac{\\partial^2 u}{\\partial x^2}\\big|_x-...=\\frac{u(x)-u(x-\\Delta x)}{\\Delta x}+O(\\Delta x)$\n",
    "\n",
    "Substract the second one from the first one, we get the Central Differencing scheme (2nd order accuracy):\n",
    "$u(x+\\Delta x)-u(x-\\Delta x)=2\\frac{\\partial u}{\\partial x}\\big|_x+2\\frac{\\Delta x^3}{3!}\\frac{\\partial^3 u}{\\partial x^3}\\big|_x+...$\n",
    "\n",
    "$\\frac{\\partial u}{\\partial x}\\big|_x=\\frac{u(x+\\Delta x)-u(x-\\Delta x)}{2\\Delta x}+2\\frac{\\Delta x^2}{3!}\\frac{\\partial^3 u}{\\partial x^3}\\big|_x+...=\\frac{u(x+\\Delta x)-u(x-\\Delta x)}{2\\Delta x}+O(\\Delta x^2)$"
   ]
  },
  {
   "cell_type": "code",
   "execution_count": null,
   "id": "e2b4c09d",
   "metadata": {},
   "outputs": [],
   "source": []
  }
 ],
 "metadata": {
  "kernelspec": {
   "display_name": "Python 3 (ipykernel)",
   "language": "python",
   "name": "python3"
  },
  "language_info": {
   "codemirror_mode": {
    "name": "ipython",
    "version": 3
   },
   "file_extension": ".py",
   "mimetype": "text/x-python",
   "name": "python",
   "nbconvert_exporter": "python",
   "pygments_lexer": "ipython3",
   "version": "3.10.6"
  }
 },
 "nbformat": 4,
 "nbformat_minor": 5
}