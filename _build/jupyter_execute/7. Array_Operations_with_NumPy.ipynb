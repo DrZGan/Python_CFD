{
 "cells": [
  {
   "cell_type": "markdown",
   "id": "c813e679",
   "metadata": {},
   "source": [
    "Step 6: Array Operations with NumPy\n",
    "----------------\n",
    "\n",
    "For more computationally intensive programs, the use of built-in Numpy functions can provide an  increase in execution speed many-times over. **Keep in mind, for optimal performance in Python programming, it's essential to substitute for-loops with array operations wherever possible.** As a simple example, consider the following equation:\n",
    "\n",
    "$$u^{n+1}_i = u^n_i-u^n_{i-1}$$\n",
    "\n",
    "Now, given a vector $u^n = [0, 1, 2, 3, 4, 5]\\ \\ $   we can calculate the values of $u^{n+1}$ by iterating over the values of $u^n$ with a for loop.  "
   ]
  },
  {
   "cell_type": "code",
   "execution_count": 1,
   "id": "3fc52d96",
   "metadata": {},
   "outputs": [
    {
     "data": {
      "text/plain": [
       "array([1., 1., 1., 1., 1.])"
      ]
     },
     "execution_count": 1,
     "metadata": {},
     "output_type": "execute_result"
    }
   ],
   "source": [
    "import numpy as np\n",
    "u = np.array((0,1,2,3,4,5))\n",
    "u1 = np.zeros(len(u)-1)\n",
    "#for i in range(len(u)):  #this outputs 0,1,2,3,4,5\n",
    "#for i in range(1, len(u)): # this outputs 1,2,3,4,5\n",
    "#    print(i)\n",
    "\n",
    "for i in range(1, len(u)):\n",
    "    u1[i-1] = u[i] - u[i-1] \n",
    "\n",
    "u1"
   ]
  },
  {
   "cell_type": "markdown",
   "id": "315818e9",
   "metadata": {},
   "source": [
    "This is the expected result and the execution time was nearly instantaneous.  If we perform the same operation as an array operation, then rather than calculate $u^n_i-u^n_{i-1}\\ $ 5 separate times, we can slice the $u$ array and calculate each operation with one command:"
   ]
  },
  {
   "cell_type": "code",
   "execution_count": 2,
   "id": "8dd27330",
   "metadata": {},
   "outputs": [
    {
     "data": {
      "text/plain": [
       "array([1, 1, 1, 1, 1])"
      ]
     },
     "execution_count": 2,
     "metadata": {},
     "output_type": "execute_result"
    }
   ],
   "source": [
    "u[1:] - u[0:-1]"
   ]
  },
  {
   "cell_type": "code",
   "execution_count": 3,
   "id": "a5e012e9",
   "metadata": {},
   "outputs": [
    {
     "name": "stdout",
     "output_type": "stream",
     "text": [
      "[1 2 3 4 5]\n",
      "[0 1 2 3 4]\n"
     ]
    }
   ],
   "source": [
    "print(u[1:])\n",
    "print(u[0:-1])"
   ]
  },
  {
   "cell_type": "markdown",
   "id": "fcf309fc",
   "metadata": {},
   "source": [
    "What this command says is subtract the 0th, 1st, 2nd, 3rd, 4th and 5th elements of  𝑢\n",
    "  from the 1st, 2nd, 3rd, 4th, 5th and 6th elements of  𝑢\n",
    " ."
   ]
  },
  {
   "cell_type": "markdown",
   "id": "7f60d7aa",
   "metadata": {},
   "source": [
    "### Speed Increases\n",
    "\n",
    "For a 6 element array, the benefits of array operations are pretty slim.  There will be no appreciable difference in execution time because there are so few operations taking place.  But if we revisit 2D linear convection, we can see some substantial speed increases.  \n"
   ]
  },
  {
   "cell_type": "code",
   "execution_count": 4,
   "id": "b6b256c5",
   "metadata": {},
   "outputs": [],
   "source": [
    "nx = 81\n",
    "ny = 81\n",
    "nt = 100\n",
    "c = 1\n",
    "dx = 2 / (nx - 1)\n",
    "dy = 2 / (ny - 1)\n",
    "sigma = .2\n",
    "dt = sigma * dx\n",
    "\n",
    "x = np.linspace(0, 2, nx)\n",
    "y = np.linspace(0, 2, ny)\n",
    "\n",
    "u = np.ones((nx, ny)) ##create a 1xn vector of 1's\n",
    "un = np.ones((nx, ny)) \n",
    "\n",
    "###Assign initial conditions\n",
    "\n",
    "u[int(.5 / dx): int(1 / dx + 1), int(.5 / dy):int(1 / dy + 1)] = 2"
   ]
  },
  {
   "cell_type": "markdown",
   "id": "b8fbc05c",
   "metadata": {},
   "source": [
    "With our initial conditions all set up, let's first try running our original nested loop code, making use of the iPython \"magic\" function `%%timeit`, which will help us evaluate the performance of our code. \n",
    "\n",
    "**Note**: The `%%timeit` magic function will run the code several times and then give an average execution time as a result.  If you have any figures being plotted within a cell where you run `%%timeit`, it will plot those figures repeatedly which can be a bit messy. \n",
    "\n",
    "The execution times below will vary from machine to machine.  Don't expect your times to match these times, but you _should_ expect to see the same general trend in decreasing execution time as we switch to array operations."
   ]
  },
  {
   "cell_type": "code",
   "execution_count": 5,
   "id": "92f5ec02",
   "metadata": {},
   "outputs": [
    {
     "name": "stdout",
     "output_type": "stream",
     "text": [
      "769 ms ± 3.37 ms per loop (mean ± std. dev. of 7 runs, 1 loop each)\n"
     ]
    }
   ],
   "source": [
    "%%timeit\n",
    "u = np.ones((nx, ny))\n",
    "u[int(.5 / dx): int(1 / dx + 1), int(.5 / dy):int(1 / dy + 1)] = 2\n",
    "\n",
    "for n in range(nt):\n",
    "    un = u.copy()\n",
    "    row, col = u.shape\n",
    "    for i in range(1, row):\n",
    "        for j in range(1, col):\n",
    "            u[i,j] = (un[i,j] - (c * dt / dx * (un[i,j] - un[i-1,j])) -\n",
    "                                (c * dt / dy * (un[i,j] - un[i,j-1])))\n",
    "            u[0, :] = 1\n",
    "            u[:, 0] = 1\n",
    "    "
   ]
  },
  {
   "cell_type": "markdown",
   "id": "5b487703",
   "metadata": {},
   "source": [
    "With the \"raw\" Python code above, the mean execution time achieved was 728 milliseconds (on a intel CORE i7 CPU).  Keep in mind that with these three nested loops, that the statements inside the **j** loop are being evaluated more than 650,000 times ($81*81*100$).   Let's compare that with the performance of the same code implemented with array operations:"
   ]
  },
  {
   "cell_type": "code",
   "execution_count": 6,
   "id": "30dcce4b",
   "metadata": {},
   "outputs": [
    {
     "name": "stdout",
     "output_type": "stream",
     "text": [
      "2.59 ms ± 11.2 µs per loop (mean ± std. dev. of 7 runs, 100 loops each)\n"
     ]
    }
   ],
   "source": [
    "%%timeit\n",
    "u = np.ones((nx, ny))\n",
    "u[int(.5 / dx): int(1 / dx + 1), int(.5 / dy):int(1 / dy + 1)] = 2\n",
    "\n",
    "for n in range(nt + 1): ##loop across number of time steps\n",
    "    un = u.copy()\n",
    "    u[1:, 1:] = (un[1:, 1:] - (c * dt / dx * (un[1:, 1:] - un[0:-1, 1:])) -\n",
    "                              (c * dt / dy * (un[1:, 1:] - un[1:, 0:-1])))\n",
    "    u[0, :] = 1\n",
    "    u[:, 0] = 1\n"
   ]
  },
  {
   "cell_type": "markdown",
   "id": "a13e66c5",
   "metadata": {},
   "source": [
    "As you can see, the speed increase (over 300x) is substantial. Seconds isn't a huge amount of time to wait, but these speed gains will increase exponentially with the size and complexity of the problem being evaluated.  "
   ]
  },
  {
   "cell_type": "markdown",
   "id": "e7e7f43c",
   "metadata": {},
   "source": [
    "### Defining Functions in Python \n",
    "\n",
    "\n",
    "In the previous steps, we wrote Python code that is meant to run from top to bottom.  We were able to reuse code (to great effect!) by copying and pasting, to incrementally build a solver for the Burgers' equation. But moving forward there are more efficient ways to write our Python codes.  In this lesson, we are going to introduce *function definitions*, which will allow us more flexibility in reusing and also in organizing our code.  \n",
    "\n",
    "We'll begin with a trivial example: a function which adds two numbers.  \n",
    "\n",
    "To create a function in Python, we start with the following:\n",
    "\n",
    "    def simpleadd(a,b):\n",
    "\n",
    "This statement creates a function called `simpleadd` which takes two inputs, `a` and `b`. Let's execute this definition code."
   ]
  },
  {
   "cell_type": "code",
   "execution_count": 7,
   "id": "a3317e1f",
   "metadata": {},
   "outputs": [],
   "source": [
    "def simpleadd(a, b):\n",
    "    return a + b"
   ]
  },
  {
   "cell_type": "markdown",
   "id": "4096acc6",
   "metadata": {},
   "source": [
    "The `return` statement tells Python what data to return in response to being called.  Now we can try calling our `simpleadd` function:"
   ]
  },
  {
   "cell_type": "code",
   "execution_count": 8,
   "id": "80cc0f13",
   "metadata": {},
   "outputs": [
    {
     "data": {
      "text/plain": [
       "7"
      ]
     },
     "execution_count": 8,
     "metadata": {},
     "output_type": "execute_result"
    }
   ],
   "source": [
    "simpleadd(3, 4)"
   ]
  },
  {
   "cell_type": "code",
   "execution_count": null,
   "id": "b27d081b",
   "metadata": {},
   "outputs": [],
   "source": []
  }
 ],
 "metadata": {
  "kernelspec": {
   "display_name": "Python 3 (ipykernel)",
   "language": "python",
   "name": "python3"
  },
  "language_info": {
   "codemirror_mode": {
    "name": "ipython",
    "version": 3
   },
   "file_extension": ".py",
   "mimetype": "text/x-python",
   "name": "python",
   "nbconvert_exporter": "python",
   "pygments_lexer": "ipython3",
   "version": "3.10.6"
  }
 },
 "nbformat": 4,
 "nbformat_minor": 5
}