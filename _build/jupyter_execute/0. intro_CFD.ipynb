{
 "cells": [
  {
   "cell_type": "markdown",
   "id": "6d5bbc2f",
   "metadata": {},
   "source": [
    "Introduction of Computational Fluid Dynamics\n",
    "-----\n",
    "***"
   ]
  },
  {
   "attachments": {},
   "cell_type": "markdown",
   "id": "51b6efe5",
   "metadata": {},
   "source": [
    "Computational Fluid Dynamics (CFD), a subarea of fluid mechanics, focuses on the development of numerical methods to analyze and solve the governing equations in fluid dynamics. Visualization of some CFD simulations are shown here:\n",
    "\n",
    "![CFD simulations](cfdsimulations.jpg)\n",
    "\n",
    "https://www.plm.automation.siemens.com/global/de/our-story/glossary/cfd-simulation/67873\n",
    "\n",
    "What is the governing equations in fluid dynamics? \n",
    "It is the Navier–Stokes equations. Here's a common form of the NS equations for incompressible flow in Markdown format:\n",
    "\n",
    "**Navier-Stokes Equations for Incompressible Flow:**\n",
    "\n",
    "- Momentum equation:\n",
    "  $ \\frac{\\partial \\mathbf{u}}{\\partial t} + \\mathbf{u} \\cdot \\nabla \\mathbf{u} = -\\frac{1}{\\rho} \\nabla p + \\nu \\nabla^2 \\mathbf{u} + \\mathbf{f} $\n",
    "\n",
    "- Continuity equation:\n",
    "  $ \\nabla \\cdot \\mathbf{u} = 0 $\n",
    "\n",
    "Where:\n",
    "- $ \\mathbf{u} $ is the velocity field,\n",
    "- $ t $ is time,\n",
    "- $ \\rho $ is the fluid density,\n",
    "- $ p $ is the pressure field,\n",
    "- $ \\nu $ is the kinematic viscosity,\n",
    "- $ \\mathbf{f} $ represents body forces (e.g., gravity),\n",
    "- $ \\nabla $ denotes the gradient operator,\n",
    "- $ \\nabla^2 $ is the Laplacian operator.\n",
    "\n",
    "At first glance, these equations may seem daunting, but the primary aim of this course is to demystify them and guide you through numerically solving them using high-performance Python programming techniques. Our goal is to help you become comfortable and proficient with these concepts!\n",
    "\n",
    "In this course, we focus on the application of **computational techniques** for solving partial differential equations (PDEs), particularly the Navier-Stokes Equations. These computational approaches effectively transform PDEs into linear algebraic equations. Among the various techniques available, such as the Finite Element Method, Finite Difference Method, and Finite Volume Method, our primary emphasis will be on the **Finite Difference Method** and its implementation in Python.\n",
    "\n",
    "**Moving forward, we will begin our journey with the simplest form of the convection equation.**"
   ]
  },
  {
   "cell_type": "code",
   "execution_count": null,
   "id": "f79539e1",
   "metadata": {},
   "outputs": [],
   "source": []
  }
 ],
 "metadata": {
  "kernelspec": {
   "display_name": "Python 3 (ipykernel)",
   "language": "python",
   "name": "python3"
  },
  "language_info": {
   "codemirror_mode": {
    "name": "ipython",
    "version": 3
   },
   "file_extension": ".py",
   "mimetype": "text/x-python",
   "name": "python",
   "nbconvert_exporter": "python",
   "pygments_lexer": "ipython3",
   "version": "3.10.6"
  }
 },
 "nbformat": 4,
 "nbformat_minor": 5
}