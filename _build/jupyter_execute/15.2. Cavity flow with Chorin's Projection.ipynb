{
 "cells": [
  {
   "cell_type": "markdown",
   "id": "814ab3ab",
   "metadata": {},
   "source": [
    "Step 13.3: Cavity flow with Chorin's Projection\n",
    "----\n",
    "***\n",
    "\n",
    "Solution strategy:   (Projection Method: Chorin's Splitting)\n",
    "\n",
    "https://www.youtube.com/watch?v=BQLvNLgMTQE&t=106s\n",
    "\n",
    "1. Solve Momentum equation without pressure gradient for tentative velocity\n",
    "   (with given Boundary Conditions)\n",
    "\n",
    "$$\\frac{\\partial \\vec{v}^*}{\\partial t}+(\\vec{v}^*\\cdot\\nabla)\\vec{v}^*= \\nu \\nabla^2\\vec{v}^*$$\n",
    "\n",
    "2. Solve pressure poisson equation for pressure at next point in time\n",
    "   (with homogeneous Neumann Boundary Conditions everywhere except for\n",
    "   the top, where it is homogeneous Dirichlet)\n",
    "\n",
    "$$\\frac{\\partial^2 p}{\\partial x^2}+\\frac{\\partial^2 p}{\\partial y^2} = \\rho\\left(\\frac{\\partial}{\\partial t}\\left(\\frac{\\partial u^*}{\\partial x} +\\frac{\\partial v^*}{\\partial y} \\right)  \\right)$$\n",
    "\n",
    "3. Correct the velocities (and again enforce the Velocity Boundary Conditions)\n",
    "\n",
    "$$u = u^* - \\frac{\\Delta t}{\\rho} \\frac{\\partial p}{\\partial x} $$\n",
    "$$v = v^* - \\frac{\\Delta t}{\\rho} \\frac{\\partial p}{\\partial y} $$\n"
   ]
  },
  {
   "cell_type": "markdown",
   "id": "4b515a00",
   "metadata": {},
   "source": [
    "The initial condition is $u, v, p = 0$ everywhere, and the boundary conditions are:\n",
    "\n",
    "$u=1$ at $y=2$ (the \"lid\");\n",
    "\n",
    "$u, v=0$ on the other boundaries;\n",
    "\n",
    "$\\frac{\\partial p}{\\partial y}=0$ at $y=0$;\n",
    "\n",
    "$p=0$ at $y=2$\n",
    "\n",
    "$\\frac{\\partial p}{\\partial x}=0$ at $x=0,2$\n",
    "\n"
   ]
  },
  {
   "cell_type": "code",
   "execution_count": 1,
   "id": "b4be37b6",
   "metadata": {},
   "outputs": [],
   "source": [
    "import numpy as np\n",
    "from matplotlib import pyplot as plt, cm\n",
    "from mpl_toolkits.mplot3d import Axes3D\n",
    "from tqdm import tqdm\n",
    "import time\n",
    "#The tqdm library provides a progress bar for loops.  "
   ]
  },
  {
   "cell_type": "code",
   "execution_count": 2,
   "id": "faec99b6",
   "metadata": {},
   "outputs": [
    {
     "name": "stdout",
     "output_type": "stream",
     "text": [
      "Reynold's number = 100.0\n"
     ]
    }
   ],
   "source": [
    "nx = 41\n",
    "ny = 41\n",
    "nt = 500 \n",
    "nit = 50\n",
    "c = 1\n",
    "length = 1\n",
    "dx = length / (nx-1)\n",
    "dy = length / (ny-1)\n",
    "x = np.linspace(0,length,nx)\n",
    "y = np.linspace(0,length,ny)\n",
    "X, Y = np.meshgrid(x, y)\n",
    "\n",
    "rho = 1\n",
    "nu = 0.01\n",
    "dt = 0.001\n",
    "\n",
    "u = np.zeros((ny,nx))\n",
    "v = np.zeros((ny,nx))\n",
    "p = np.zeros((ny,nx))\n",
    "b = np.zeros((ny,nx))\n",
    "\n",
    "print(\"Reynold's number =\", c*length/nu)\n",
    "\n",
    "maximum_possible_time_step_length = 0.5 * dx**2 / nu\n",
    "if dt > maximum_possible_time_step_length:\n",
    "        print(\"Stability is not guarenteed\")"
   ]
  },
  {
   "cell_type": "code",
   "execution_count": 3,
   "id": "ac0a0434",
   "metadata": {},
   "outputs": [],
   "source": [
    "def velocity_u_update(u, dx, dy, dt, rho, p, un, vn):  # Central differencing for convection term\n",
    "    \n",
    "    u[1:-1, 1:-1] = (un[1:-1, 1:-1]-\n",
    "                    un[1:-1, 1:-1] * dt / (2*dx) *\n",
    "                    (un[1:-1, 2:] - un[1:-1, 0:-2]) -\n",
    "                    vn[1:-1, 1:-1] * dt / (2*dy) *\n",
    "                    (un[2:, 1:-1] - un[0:-2, 1:-1]) +\n",
    "                    nu * (dt / dx**2 *\n",
    "                    (un[1:-1, 2:] - 2 * un[1:-1, 1:-1] + un[1:-1, 0:-2]) +\n",
    "                    dt / dy**2 *\n",
    "                    (un[2:, 1:-1] - 2 * un[1:-1, 1:-1] + un[0:-2, 1:-1])))\n",
    "    return u\n",
    "\n",
    "def velocity_v_update(v, dx, dy, dt, rho, p, un, vn): # Central differencing for convection term\n",
    "    \n",
    "    v[1:-1,1:-1] = (vn[1:-1, 1:-1] -\n",
    "                    un[1:-1, 1:-1] * dt / (2*dx) *\n",
    "                    (vn[1:-1, 2:] - vn[1:-1, 0:-2]) -\n",
    "                    vn[1:-1, 1:-1] * dt / (2*dy) *\n",
    "                    (vn[2:, 1:-1] - vn[0:-2, 1:-1]) +\n",
    "                    nu * (dt / dx**2 *\n",
    "                    (vn[1:-1, 2:] - 2 * vn[1:-1, 1:-1] + vn[1:-1, 0:-2]) +\n",
    "                    dt / dy**2 *\n",
    "                    (vn[2:, 1:-1] - 2 * vn[1:-1, 1:-1] + vn[0:-2, 1:-1])))\n",
    "    return v\n",
    "\n",
    "def compute_F(c):\n",
    "    denom = abs(c) + 1e-6\n",
    "    pos_part = np.maximum(c/denom, 0)\n",
    "    neg_part = np.maximum(-c/denom, 0)\n",
    "    return pos_part, neg_part\n",
    "\n",
    "# Upwind differencing for convection term\n",
    "def velocity_u_upwind_update(u, dx, dy, dt, rho, p, un, vn): \n",
    "    #F = lambda c: (max(c/(abs(c)+1e-6), 0), max(-c/(abs(c)+1e-6), 0))\n",
    "    #F_vectorized = np.vectorize(F) # vectorize function F to support element-wise operations on arrays\n",
    "    fe1, fe2 = compute_F(un)       \n",
    "    fw1, fw2 = fe1, fe2\n",
    "    ue = un[1:-1, 1:-1] * fe1[1:-1, 1:-1] + un[1:-1, 2:] * fe2[1:-1, 1:-1]     \n",
    "    uw = un[1:-1, 0:-2] * fw1[1:-1, 1:-1] + un[1:-1, 1:-1]* fw2[1:-1, 1:-1]\n",
    "\n",
    "    fnorth1, fnorth2 = compute_F(vn)       \n",
    "    fs1, fs2 = fnorth1, fnorth2\n",
    "    unorth = un[1:-1, 1:-1] * fnorth1[1:-1, 1:-1] + un[2:, 1:-1] * fnorth2[1:-1, 1:-1]     \n",
    "    us = un[0:-2, 1:-1] * fs1[1:-1, 1:-1] + un[1:-1, 1:-1]* fs2[1:-1, 1:-1]\n",
    "   \n",
    "    u[1:-1, 1:-1] = (un[1:-1, 1:-1]-\n",
    "                    un[1:-1, 1:-1] * dt / dx *\n",
    "                    (ue - uw) -\n",
    "                    vn[1:-1, 1:-1] * dt / dy *\n",
    "                    (unorth - us) +\n",
    "                    nu * (dt / dx**2 *\n",
    "                    (un[1:-1, 2:] - 2 * un[1:-1, 1:-1] + un[1:-1, 0:-2]) +\n",
    "                    dt / dy**2 *\n",
    "                    (un[2:, 1:-1] - 2 * un[1:-1, 1:-1] + un[0:-2, 1:-1])))\n",
    "    return u\n",
    "\n",
    "# Upwind differencing for convection term\n",
    "def velocity_v_upwind_update(v, dx, dy, dt, rho, p, un, vn):\n",
    "    \n",
    "    #F = lambda c: (max(c/(abs(c)+1e-6), 0), max(-c/(abs(c)+1e-6), 0))\n",
    "    #F_vectorized = np.vectorize(F) # vectorize function F to support element-wise operations on arrays\n",
    "    fe1, fe2 = compute_F(un)       \n",
    "    fw1, fw2 = fe1, fe2\n",
    "    ve = vn[1:-1, 1:-1] * fe1[1:-1, 1:-1] + vn[1:-1, 2:] * fe2[1:-1, 1:-1]     \n",
    "    vw = vn[1:-1, 0:-2] * fw1[1:-1, 1:-1] + vn[1:-1, 1:-1]* fw2[1:-1, 1:-1]\n",
    "\n",
    "    fnorth1, fnorth2 = compute_F(vn)       \n",
    "    fs1, fs2 = fnorth1, fnorth2\n",
    "    vnorth = vn[1:-1, 1:-1] * fnorth1[1:-1, 1:-1] + vn[2:, 1:-1] * fnorth2[1:-1, 1:-1]     \n",
    "    vs = vn[0:-2, 1:-1] * fs1[1:-1, 1:-1] + vn[1:-1, 1:-1]* fs2[1:-1, 1:-1]\n",
    "    \n",
    "    v[1:-1,1:-1] = (vn[1:-1, 1:-1] -\n",
    "                    un[1:-1, 1:-1] * dt / dx *\n",
    "                    (ve - vw) -\n",
    "                    vn[1:-1, 1:-1] * dt / dy *\n",
    "                    (vnorth - vs) +\n",
    "                    nu * (dt / dx**2 *\n",
    "                    (vn[1:-1, 2:] - 2 * vn[1:-1, 1:-1] + vn[1:-1, 0:-2]) +\n",
    "                    dt / dy**2 *\n",
    "                    (vn[2:, 1:-1] - 2 * vn[1:-1, 1:-1] + vn[0:-2, 1:-1])))\n",
    "    return v\n",
    "\n",
    "\n",
    "\n",
    "# a = np.ones((5,5))\n",
    "# F = lambda c: (max(c/(abs(c)+1e-6), 0), max(-c/(abs(c)+1e-6), 0))\n",
    "# F_vectorized = np.vectorize(F)\n",
    "# a1,a2=F_vectorized(a)\n",
    "# a1"
   ]
  },
  {
   "cell_type": "code",
   "execution_count": 4,
   "id": "14ab734a",
   "metadata": {},
   "outputs": [],
   "source": [
    "def build_up_b(rho, dt, u, v, dx, dy):\n",
    "    b = np.zeros_like(u)\n",
    "    b[1:-1, 1:-1] = (rho * (1 / dt * \n",
    "                    ((u[1:-1, 2:] - u[1:-1, 0:-2]) / \n",
    "                     (2 * dx) + (v[2:, 1:-1] - v[0:-2, 1:-1]) / (2 * dy)) ))\n",
    "\n",
    "\n",
    "    return b"
   ]
  },
  {
   "cell_type": "markdown",
   "id": "3c9aeee9",
   "metadata": {},
   "source": [
    "The function `pressure_poisson` is also defined to help segregate the different rounds of calculations.  Note the presence of the pseudo-time variable `nit`.  This sub-iteration in the Poisson calculation helps ensure a divergence-free field.  "
   ]
  },
  {
   "cell_type": "code",
   "execution_count": 5,
   "id": "0fab8d1f",
   "metadata": {},
   "outputs": [],
   "source": [
    "def pressure_poisson(p, dx, dy, b):\n",
    "    pn = np.empty_like(p)\n",
    "    pn = p.copy()\n",
    "    \n",
    "    for q in range(nit):\n",
    "        pn = p.copy()\n",
    "        p[1:-1, 1:-1] = (((pn[1:-1, 2:] + pn[1:-1, 0:-2]) * dy**2 + \n",
    "                          (pn[2:, 1:-1] + pn[0:-2, 1:-1]) * dx**2) /\n",
    "                          (2 * (dx**2 + dy**2)) -\n",
    "                          dx**2 * dy**2 / (2 * (dx**2 + dy**2)) * \n",
    "                          b[1:-1,1:-1])\n",
    "\n",
    "        p[:, -1] = p[:, -2] # dp/dx = 0 at x = 2\n",
    "        p[0, :] = p[1, :]   # dp/dy = 0 at y = 0\n",
    "        p[:, 0] = p[:, 1]   # dp/dx = 0 at x = 0\n",
    "        p[-1, :] = 0        # p = 0 at y = 2\n",
    "        \n",
    "    return p"
   ]
  },
  {
   "cell_type": "code",
   "execution_count": 6,
   "id": "745be178",
   "metadata": {},
   "outputs": [],
   "source": [
    "# This is another version of pressure_poisson function with l1norm_target\n",
    "def pressure_poisson_l1norm(p, dx, dy, b, l1norm_target):\n",
    "    pn = np.empty_like(p)\n",
    "    pn = p.copy()\n",
    "\n",
    "    l1norm = 1\n",
    "    small = 1e-8\n",
    "    niter = 0\n",
    "    while l1norm > l1norm_target:\n",
    "        niter += 1   # count the number of iterations for convergence\n",
    "        pn = p.copy()\n",
    "        p[1:-1, 1:-1] = (((pn[1:-1, 2:] + pn[1:-1, 0:-2]) * dy**2 + \n",
    "                          (pn[2:, 1:-1] + pn[0:-2, 1:-1]) * dx**2) /\n",
    "                          (2 * (dx**2 + dy**2)) -\n",
    "                          dx**2 * dy**2 / (2 * (dx**2 + dy**2)) * \n",
    "                          b[1:-1,1:-1])\n",
    "\n",
    "        p[:, -1] = p[:, -2] # dp/dx = 0 at x = 2\n",
    "        p[0, :] = p[1, :]   # dp/dy = 0 at y = 0\n",
    "        p[:, 0] = p[:, 1]   # dp/dx = 0 at x = 0\n",
    "        p[-1, :] = 0        # p = 0 at y = 2\n",
    "        l1norm = (np.sum(np.abs(p[:]-pn[:])) / (np.sum(np.abs(pn[:]))+small))\n",
    "        \n",
    "    return p, niter"
   ]
  },
  {
   "cell_type": "markdown",
   "id": "eacbe8ee",
   "metadata": {},
   "source": [
    "Finally, the rest of the cavity flow equations are wrapped inside the function `cavity_flow`, allowing us to easily plot the results of the cavity flow solver for different lengths of time.  "
   ]
  },
  {
   "cell_type": "code",
   "execution_count": 7,
   "id": "51a3cc54",
   "metadata": {},
   "outputs": [],
   "source": [
    "def cavity_flow(nt, u, v, dt, dx, dy, p, rho, nu):\n",
    "    un = np.empty_like(u)\n",
    "    vn = np.empty_like(v)\n",
    "    pn = np.empty_like(p)\n",
    "    b = np.zeros((ny, nx))\n",
    "    small = 1e-8    \n",
    "    for n in tqdm(range(nt)):\n",
    "        un = u.copy()\n",
    "        vn = v.copy()\n",
    "        pn = p.copy()\n",
    "\n",
    "        u = velocity_u_update(u, dx, dy, dt, rho, p, un, vn)\n",
    "        v = velocity_v_update(v, dx, dy, dt, rho, p, un, vn)\n",
    "#        u = velocity_u_upwind_update(u, dx, dy, dt, rho, p, un, vn)\n",
    "#        v = velocity_v_upwind_update(v, dx, dy, dt, rho, p, un, vn)\n",
    "        \n",
    "        b = build_up_b(rho, dt, u, v, dx, dy)\n",
    "        #p = pressure_poisson(p, dx, dy, b)\n",
    "        p, niter = pressure_poisson_l1norm(p, dx, dy, b, 1e-4)\n",
    "        #print(niter)\n",
    "        \n",
    "        # correct the velocity\n",
    "        u[1:-1, 1:-1] = (u[1:-1, 1:-1]- dt / rho * (p[1:-1,2:]-p[1:-1,0:-2])/(2*dx))\n",
    "        v[1:-1, 1:-1] = (v[1:-1, 1:-1]- dt / rho * (p[2:,1:-1]-p[0:-2,1:-1])/(2*dy))\n",
    "        \n",
    "        u[0, :]  = 0\n",
    "        u[:, 0]  = 0\n",
    "        u[:, -1] = 0\n",
    "        u[-1, :] = c    # set velocity on cavity lid equal to c\n",
    "        v[0, :]  = 0\n",
    "        v[-1, :] = 0\n",
    "        v[:, 0]  = 0\n",
    "        v[:, -1] = 0\n",
    "        \n",
    "    l1norm_u = (np.sum(np.abs(u[:]-un[:])) / (np.sum(np.abs(un[:]))+small))\n",
    "    l1norm_v = (np.sum(np.abs(v[:]-vn[:])) / (np.sum(np.abs(vn[:]))+small))\n",
    "    l1norm_p = (np.sum(np.abs(p[:]-pn[:])) / (np.sum(np.abs(pn[:]))+small))\n",
    "    print(\"l1norm_u = \",  l1norm_u, \"l1norm_v = \",  l1norm_v, \"l1norm_p = \",  l1norm_p)\n",
    "    return u, v, p"
   ]
  },
  {
   "cell_type": "markdown",
   "id": "56640abf",
   "metadata": {},
   "source": [
    "### Benchmark using a reference data (Ghia-1982)"
   ]
  },
  {
   "cell_type": "markdown",
   "id": "ee5c17b4",
   "metadata": {},
   "source": [
    "### Try a case with Re = 400 and what happens?"
   ]
  },
  {
   "cell_type": "code",
   "execution_count": 8,
   "id": "be2aebeb",
   "metadata": {},
   "outputs": [
    {
     "name": "stdout",
     "output_type": "stream",
     "text": [
      "Reynold's number = 400.0\n"
     ]
    }
   ],
   "source": [
    "rho = 1\n",
    "c= 4\n",
    "nu = 0.01\n",
    "dt = 0.001\n",
    "\n",
    "u = np.zeros((ny,nx))\n",
    "v = np.zeros((ny,nx))\n",
    "p = np.zeros((ny,nx))\n",
    "b = np.zeros((ny,nx))\n",
    "\n",
    "print(\"Reynold's number =\", c*length/nu)"
   ]
  },
  {
   "cell_type": "code",
   "execution_count": 9,
   "id": "a7754e70",
   "metadata": {
    "scrolled": false
   },
   "outputs": [
    {
     "name": "stderr",
     "output_type": "stream",
     "text": [
      "\r",
      "  0%|                                                                                         | 0/10000 [00:00<?, ?it/s]"
     ]
    },
    {
     "name": "stderr",
     "output_type": "stream",
     "text": [
      "\r",
      "  0%|                                                                                 | 7/10000 [00:00<02:26, 68.31it/s]"
     ]
    },
    {
     "name": "stderr",
     "output_type": "stream",
     "text": [
      "\r",
      "  0%|▏                                                                              | 28/10000 [00:00<01:06, 150.70it/s]"
     ]
    },
    {
     "name": "stderr",
     "output_type": "stream",
     "text": [
      "\r",
      "  1%|█                                                                             | 140/10000 [00:00<00:16, 590.41it/s]"
     ]
    },
    {
     "name": "stderr",
     "output_type": "stream",
     "text": [
      "\r",
      "  3%|██▏                                                                           | 278/10000 [00:00<00:10, 898.58it/s]"
     ]
    },
    {
     "name": "stderr",
     "output_type": "stream",
     "text": [
      "\r",
      "  4%|███                                                                           | 395/10000 [00:00<00:09, 992.79it/s]"
     ]
    },
    {
     "name": "stderr",
     "output_type": "stream",
     "text": [
      "\r",
      "  5%|███▉                                                                         | 511/10000 [00:00<00:09, 1045.71it/s]"
     ]
    },
    {
     "name": "stderr",
     "output_type": "stream",
     "text": [
      "\r",
      "  7%|█████                                                                        | 653/10000 [00:00<00:08, 1167.32it/s]"
     ]
    },
    {
     "name": "stderr",
     "output_type": "stream",
     "text": [
      "\r",
      "  9%|███████▏                                                                     | 928/10000 [00:00<00:05, 1668.55it/s]"
     ]
    },
    {
     "name": "stderr",
     "output_type": "stream",
     "text": [
      "\r",
      " 14%|██████████▎                                                                 | 1351/10000 [00:00<00:03, 2466.28it/s]"
     ]
    },
    {
     "name": "stderr",
     "output_type": "stream",
     "text": [
      "\r",
      " 19%|██████████████▏                                                             | 1865/10000 [00:01<00:02, 3289.18it/s]"
     ]
    },
    {
     "name": "stderr",
     "output_type": "stream",
     "text": [
      "\r",
      " 25%|██████████████████▊                                                         | 2471/10000 [00:01<00:01, 4134.91it/s]"
     ]
    },
    {
     "name": "stderr",
     "output_type": "stream",
     "text": [
      "\r",
      " 31%|███████████████████████▊                                                    | 3133/10000 [00:01<00:01, 4889.78it/s]"
     ]
    },
    {
     "name": "stderr",
     "output_type": "stream",
     "text": [
      "\r",
      " 38%|████████████████████████████▊                                               | 3789/10000 [00:01<00:01, 5393.12it/s]"
     ]
    },
    {
     "name": "stderr",
     "output_type": "stream",
     "text": [
      "\r",
      " 46%|██████████████████████████████████▌                                         | 4554/10000 [00:01<00:00, 6072.36it/s]"
     ]
    },
    {
     "name": "stderr",
     "output_type": "stream",
     "text": [
      "\r",
      " 52%|███████████████████████████████████████▊                                    | 5239/10000 [00:01<00:00, 6305.03it/s]"
     ]
    },
    {
     "name": "stderr",
     "output_type": "stream",
     "text": [
      "\r",
      " 60%|█████████████████████████████████████████████▍                              | 5984/10000 [00:01<00:00, 6647.61it/s]"
     ]
    },
    {
     "name": "stderr",
     "output_type": "stream",
     "text": [
      "\r",
      " 67%|██████████████████████████████████████████████████▉                         | 6709/10000 [00:01<00:00, 6827.06it/s]"
     ]
    },
    {
     "name": "stderr",
     "output_type": "stream",
     "text": [
      "\r",
      " 74%|████████████████████████████████████████████████████████▏                   | 7392/10000 [00:01<00:00, 6760.97it/s]"
     ]
    },
    {
     "name": "stderr",
     "output_type": "stream",
     "text": [
      "\r",
      " 82%|██████████████████████████████████████████████████████████████              | 8159/10000 [00:01<00:00, 7030.43it/s]"
     ]
    },
    {
     "name": "stderr",
     "output_type": "stream",
     "text": [
      "\r",
      " 89%|███████████████████████████████████████████████████████████████████▊        | 8926/10000 [00:02<00:00, 7219.34it/s]"
     ]
    },
    {
     "name": "stderr",
     "output_type": "stream",
     "text": [
      "\r",
      " 97%|█████████████████████████████████████████████████████████████████████████▋  | 9692/10000 [00:02<00:00, 7348.34it/s]"
     ]
    },
    {
     "name": "stderr",
     "output_type": "stream",
     "text": [
      "\r",
      "100%|███████████████████████████████████████████████████████████████████████████| 10000/10000 [00:02<00:00, 4639.84it/s]"
     ]
    },
    {
     "name": "stderr",
     "output_type": "stream",
     "text": [
      "\n"
     ]
    },
    {
     "name": "stdout",
     "output_type": "stream",
     "text": [
      "l1norm_u =  4.480934823505844e-07 l1norm_v =  5.794213521550258e-07 l1norm_p =  5.24350596698032e-07\n",
      "Running time: 2.1794533729553223 seconds\n"
     ]
    },
    {
     "data": {
      "image/png": "[encoded data removed]",
      "text/plain": [
       "<Figure size 1100x700 with 2 Axes>"
      ]
     },
     "metadata": {
      "needs_background": "light"
     },
     "output_type": "display_data"
    }
   ],
   "source": [
    "nt = 10000\n",
    "\n",
    "start_time = time.time()\n",
    "\n",
    "u, v, p = cavity_flow(nt, u, v, dt, dx, dy, p, rho, nu)\n",
    "\n",
    "end_time = time.time()\n",
    "# Compute running time\n",
    "running_time = end_time - start_time\n",
    "print(f\"Running time: {running_time} seconds\")\n",
    "\n",
    "\n",
    "# Create figure and set dpi and figure size\n",
    "fig = plt.figure(figsize=(11,7), dpi=100)\n",
    "\n",
    "# Contourf plot for pressure field with colorbar\n",
    "cf = plt.contourf(X, Y, p, alpha=0.5, cmap='turbo', levels=20)\n",
    "plt.colorbar(cf, label='Pressure')\n",
    "\n",
    "# Contour plot for pressure field outlines\n",
    "contour = plt.contour(X, Y, p, cmap='turbo', levels=10)\n",
    "plt.clabel(contour, inline=False, fontsize=12, colors = 'black')\n",
    "\n",
    "# Quiver plot for velocity field\n",
    "quiv = plt.quiver(X[::2, ::2], Y[::2, ::2], u[::2, ::2], v[::2, ::2]) \n",
    "\n",
    "# Setting labels for the x and y axes\n",
    "plt.xlabel('X', fontsize=12)\n",
    "plt.ylabel('Y', fontsize=12)\n",
    "\n",
    "# Setting the title for the plot\n",
    "plt.title('Pressure and Velocity fields', fontsize=14)\n",
    "\n",
    "# Display the plot\n",
    "plt.show()"
   ]
  },
  {
   "cell_type": "code",
   "execution_count": 10,
   "id": "41cd5ada",
   "metadata": {},
   "outputs": [],
   "source": [
    "import pandas as pd\n",
    "import matplotlib.pyplot as plt\n",
    "\n",
    "# Read the txt file\n",
    "with open('Ghia-1982.txt', 'r') as file:\n",
    "    lines = file.readlines()\n",
    "\n",
    "# Adjust the lines range to match your data\n",
    "lines = lines[5:-7]  # Adjust these numbers\n",
    "\n",
    "# Process lines to obtain data\n",
    "data = [list(map(float, line.split())) for line in lines]\n",
    "\n",
    "# Create DataFrame from data\n",
    "df = pd.DataFrame(data, columns=['y', 'Re=100', 'Re=400', 'Re=1000', 'Re=3200', 'Re=5000', 'Re=7500', 'Re=10000'])\n",
    "\n",
    "# Set y as index\n",
    "df.set_index('y', inplace=True)\n",
    "\n",
    "# Plotting\n",
    "# plt.figure(figsize=(10,8))\n",
    "# for column in df.columns:\n",
    "#     plt.plot(df[column].values, df.index.values, label=column) # use .values to get numpy arrays\n",
    "\n",
    "# plt.xlabel('u-velocity')\n",
    "# plt.ylabel('y')\n",
    "# plt.title('u-velocity for different y and Re')\n",
    "# plt.legend()\n",
    "# plt.gca().invert_yaxis()  # To invert y-axis\n",
    "# plt.grid(True)\n",
    "# plt.show()"
   ]
  },
  {
   "cell_type": "code",
   "execution_count": 11,
   "id": "581678fc",
   "metadata": {},
   "outputs": [
    {
     "data": {
      "image/png": "[encoded data removed]",
      "text/plain": [
       "<Figure size 720x576 with 1 Axes>"
      ]
     },
     "metadata": {
      "needs_background": "light"
     },
     "output_type": "display_data"
    }
   ],
   "source": [
    "# Plotting\n",
    "plt.figure(figsize=(10,8))\n",
    "\n",
    "plt.plot(df['Re=400'].values, df.index.values, 'o', label='Re=400-Ghia-1982') # use .values to get numpy arrays\n",
    "plt.plot(u[:,int(ny/2)]/c, y, label='Re=400-CFD') # \n",
    "\n",
    "plt.xlabel('u-velocity')\n",
    "plt.ylabel('y')\n",
    "plt.title('u-velocity for different y and Re')\n",
    "plt.legend()\n",
    "plt.gca().invert_yaxis()  # To invert y-axis\n",
    "plt.grid(True)\n",
    "plt.show()"
   ]
  },
  {
   "cell_type": "markdown",
   "id": "61532c07",
   "metadata": {},
   "source": [
    "### Try a case with Re = 1000 and what happens?"
   ]
  },
  {
   "cell_type": "markdown",
   "id": "ea34f399",
   "metadata": {},
   "source": [
    "For a side-by-side efficiency comparison between Chorin's projection and the direct coupling method, we've replicated the direct coupling approach and executed it below."
   ]
  },
  {
   "cell_type": "code",
   "execution_count": 12,
   "id": "adb5d64e",
   "metadata": {},
   "outputs": [],
   "source": [
    "def cavity_flow_direct(nt, u, v, dt, dx, dy, p, rho, nu):\n",
    "    \n",
    "    def build_up_b(b, rho, dt, u, v, dx, dy):\n",
    "\n",
    "        b[1:-1, 1:-1] = (rho * (1 / dt * \n",
    "                        ((u[1:-1, 2:] - u[1:-1, 0:-2]) / \n",
    "                         (2 * dx) + (v[2:, 1:-1] - v[0:-2, 1:-1]) / (2 * dy)) -\n",
    "                        ((u[1:-1, 2:] - u[1:-1, 0:-2]) / (2 * dx))**2 -\n",
    "                          2 * ((u[2:, 1:-1] - u[0:-2, 1:-1]) / (2 * dy) *\n",
    "                               (v[1:-1, 2:] - v[1:-1, 0:-2]) / (2 * dx))-\n",
    "                              ((v[2:, 1:-1] - v[0:-2, 1:-1]) / (2 * dy))**2))\n",
    "\n",
    "\n",
    "        return b\n",
    "\n",
    "    # This is another version of pressure_poisson function with l1norm_target\n",
    "    def pressure_poisson_l1norm(p, dx, dy, b, l1norm_target):\n",
    "        pn = np.empty_like(p)\n",
    "        pn = p.copy()\n",
    "\n",
    "        l1norm = 1\n",
    "        small = 1e-8\n",
    "        niter = 0\n",
    "        while l1norm > l1norm_target:\n",
    "            niter += 1   # count the number of iterations for convergence\n",
    "            pn = p.copy()\n",
    "            p[1:-1, 1:-1] = (((pn[1:-1, 2:] + pn[1:-1, 0:-2]) * dy**2 + \n",
    "                              (pn[2:, 1:-1] + pn[0:-2, 1:-1]) * dx**2) /\n",
    "                              (2 * (dx**2 + dy**2)) -\n",
    "                              dx**2 * dy**2 / (2 * (dx**2 + dy**2)) * \n",
    "                              b[1:-1,1:-1])\n",
    "\n",
    "            p[:, -1] = p[:, -2] # dp/dx = 0 at x = 2\n",
    "            p[0, :] = p[1, :]   # dp/dy = 0 at y = 0\n",
    "            p[:, 0] = p[:, 1]   # dp/dx = 0 at x = 0\n",
    "            p[-1, :] = 0        # p = 0 at y = 2\n",
    "            l1norm = (np.sum(np.abs(p[:]-pn[:])) / (np.sum(np.abs(pn[:]))+small))\n",
    "\n",
    "        return p, niter\n",
    "\n",
    "    def velocity_u_update(u, dx, dy, dt, rho, p, un, vn):\n",
    "\n",
    "        u[1:-1, 1:-1] = (un[1:-1, 1:-1]-\n",
    "                        un[1:-1, 1:-1] * dt / dx *\n",
    "                        (un[1:-1, 1:-1] - un[1:-1, 0:-2]) -\n",
    "                        vn[1:-1, 1:-1] * dt / dy *\n",
    "                        (un[1:-1, 1:-1] - un[0:-2, 1:-1]) -\n",
    "                        dt / (2 * rho * dx) * (p[1:-1, 2:] - p[1:-1, 0:-2]) +\n",
    "                        nu * (dt / dx**2 *\n",
    "                        (un[1:-1, 2:] - 2 * un[1:-1, 1:-1] + un[1:-1, 0:-2]) +\n",
    "                        dt / dy**2 *\n",
    "                        (un[2:, 1:-1] - 2 * un[1:-1, 1:-1] + un[0:-2, 1:-1])))\n",
    "        return u\n",
    "\n",
    "    def velocity_v_update(v, dx, dy, dt, rho, p, un, vn):\n",
    "\n",
    "        v[1:-1,1:-1] = (vn[1:-1, 1:-1] -\n",
    "                        un[1:-1, 1:-1] * dt / dx *\n",
    "                        (vn[1:-1, 1:-1] - vn[1:-1, 0:-2]) -\n",
    "                        vn[1:-1, 1:-1] * dt / dy *\n",
    "                        (vn[1:-1, 1:-1] - vn[0:-2, 1:-1]) -\n",
    "                        dt / (2 * rho * dy) * (p[2:, 1:-1] - p[0:-2, 1:-1]) +\n",
    "                        nu * (dt / dx**2 *\n",
    "                        (vn[1:-1, 2:] - 2 * vn[1:-1, 1:-1] + vn[1:-1, 0:-2]) +\n",
    "                        dt / dy**2 *\n",
    "                        (vn[2:, 1:-1] - 2 * vn[1:-1, 1:-1] + vn[0:-2, 1:-1])))\n",
    "        return v\n",
    "\n",
    "    un = np.empty_like(u)\n",
    "    vn = np.empty_like(v)\n",
    "    pn = np.empty_like(p)\n",
    "    b = np.zeros((ny, nx))\n",
    "    small = 1e-8    \n",
    "    for n in tqdm(range(nt)):\n",
    "        un = u.copy()\n",
    "        vn = v.copy()\n",
    "        pn = p.copy()\n",
    "        b = build_up_b(b, rho, dt, u, v, dx, dy)\n",
    "        #p = pressure_poisson(p, dx, dy, b)\n",
    "        p, niter = pressure_poisson_l1norm(p, dx, dy, b, 1e-4)\n",
    "        #print(niter)\n",
    "\n",
    "        u = velocity_u_update(u, dx, dy, dt, rho, p, un, vn)\n",
    "        v = velocity_v_update(v, dx, dy, dt, rho, p, un, vn)\n",
    "        \n",
    "        u[0, :]  = 0\n",
    "        u[:, 0]  = 0\n",
    "        u[:, -1] = 0\n",
    "        u[-1, :] = c    # set velocity on cavity lid equal to c\n",
    "        v[0, :]  = 0\n",
    "        v[-1, :] = 0\n",
    "        v[:, 0]  = 0\n",
    "        v[:, -1] = 0\n",
    "        \n",
    "    l1norm_u = (np.sum(np.abs(u[:]-un[:])) / (np.sum(np.abs(un[:]))+small))\n",
    "    l1norm_v = (np.sum(np.abs(v[:]-vn[:])) / (np.sum(np.abs(vn[:]))+small))\n",
    "    l1norm_p = (np.sum(np.abs(p[:]-pn[:])) / (np.sum(np.abs(pn[:]))+small))\n",
    "    print(\"l1norm_u = \",  l1norm_u, \"l1norm_v = \",  l1norm_v, \"l1norm_p = \",  l1norm_p)\n",
    "    return u, v, p"
   ]
  },
  {
   "cell_type": "code",
   "execution_count": 13,
   "id": "d72a30e3",
   "metadata": {},
   "outputs": [
    {
     "name": "stderr",
     "output_type": "stream",
     "text": [
      "\r",
      "  0%|                                                                                         | 0/10000 [00:00<?, ?it/s]"
     ]
    },
    {
     "name": "stderr",
     "output_type": "stream",
     "text": [
      "\r",
      "  0%|                                                                                 | 8/10000 [00:00<02:08, 77.63it/s]"
     ]
    },
    {
     "name": "stderr",
     "output_type": "stream",
     "text": [
      "\r",
      "  0%|▏                                                                              | 26/10000 [00:00<01:14, 134.75it/s]"
     ]
    },
    {
     "name": "stderr",
     "output_type": "stream",
     "text": [
      "\r",
      "  2%|█▎                                                                            | 167/10000 [00:00<00:13, 707.21it/s]"
     ]
    },
    {
     "name": "stderr",
     "output_type": "stream",
     "text": [
      "\r",
      "  4%|███▏                                                                         | 418/10000 [00:00<00:06, 1410.58it/s]"
     ]
    },
    {
     "name": "stderr",
     "output_type": "stream",
     "text": [
      "\r",
      "  7%|█████▌                                                                       | 721/10000 [00:00<00:04, 1989.23it/s]"
     ]
    },
    {
     "name": "stderr",
     "output_type": "stream",
     "text": [
      "\r",
      " 11%|████████▍                                                                   | 1114/10000 [00:00<00:03, 2644.25it/s]"
     ]
    },
    {
     "name": "stderr",
     "output_type": "stream",
     "text": [
      "\r",
      " 16%|████████████▏                                                               | 1607/10000 [00:00<00:02, 3387.71it/s]"
     ]
    },
    {
     "name": "stderr",
     "output_type": "stream",
     "text": [
      "\r",
      " 22%|████████████████▋                                                           | 2189/10000 [00:00<00:01, 4158.93it/s]"
     ]
    },
    {
     "name": "stderr",
     "output_type": "stream",
     "text": [
      "\r",
      " 28%|█████████████████████▌                                                      | 2841/10000 [00:00<00:01, 4893.64it/s]"
     ]
    },
    {
     "name": "stderr",
     "output_type": "stream",
     "text": [
      "\r",
      " 35%|██████████████████████████▋                                                 | 3517/10000 [00:01<00:01, 5467.75it/s]"
     ]
    },
    {
     "name": "stderr",
     "output_type": "stream",
     "text": [
      "\r",
      " 42%|███████████████████████████████▊                                            | 4191/10000 [00:01<00:00, 5855.89it/s]"
     ]
    },
    {
     "name": "stderr",
     "output_type": "stream",
     "text": [
      "\r",
      " 48%|████████████████████████████████████▊                                       | 4837/10000 [00:01<00:00, 6038.88it/s]"
     ]
    },
    {
     "name": "stderr",
     "output_type": "stream",
     "text": [
      "\r",
      " 55%|█████████████████████████████████████████▉                                  | 5511/10000 [00:01<00:00, 6249.37it/s]"
     ]
    },
    {
     "name": "stderr",
     "output_type": "stream",
     "text": [
      "\r",
      " 62%|███████████████████████████████████████████████                             | 6185/10000 [00:01<00:00, 6396.99it/s]"
     ]
    },
    {
     "name": "stderr",
     "output_type": "stream",
     "text": [
      "\r",
      " 69%|████████████████████████████████████████████████████▏                       | 6859/10000 [00:01<00:00, 6498.74it/s]"
     ]
    },
    {
     "name": "stderr",
     "output_type": "stream",
     "text": [
      "\r",
      " 75%|█████████████████████████████████████████████████████████                   | 7509/10000 [00:01<00:00, 6489.11it/s]"
     ]
    },
    {
     "name": "stderr",
     "output_type": "stream",
     "text": [
      "\r",
      " 82%|██████████████████████████████████████████████████████████████▏             | 8182/10000 [00:01<00:00, 6560.45it/s]"
     ]
    },
    {
     "name": "stderr",
     "output_type": "stream",
     "text": [
      "\r",
      " 89%|███████████████████████████████████████████████████████████████████▎        | 8855/10000 [00:01<00:00, 6609.53it/s]"
     ]
    },
    {
     "name": "stderr",
     "output_type": "stream",
     "text": [
      "\r",
      " 95%|████████████████████████████████████████████████████████████████████████▎   | 9521/10000 [00:01<00:00, 6622.88it/s]"
     ]
    },
    {
     "name": "stderr",
     "output_type": "stream",
     "text": [
      "\r",
      "100%|███████████████████████████████████████████████████████████████████████████| 10000/10000 [00:01<00:00, 5049.28it/s]"
     ]
    },
    {
     "name": "stderr",
     "output_type": "stream",
     "text": [
      "\n",
      "\r",
      "  0%|                                                                                         | 0/10000 [00:00<?, ?it/s]"
     ]
    },
    {
     "name": "stderr",
     "output_type": "stream",
     "text": [
      "\r",
      "  1%|█                                                                            | 139/10000 [00:00<00:07, 1388.61it/s]"
     ]
    },
    {
     "name": "stdout",
     "output_type": "stream",
     "text": [
      "l1norm_u =  2.0964336749894792e-06 l1norm_v =  2.8019156614369277e-06 l1norm_p =  2.349586199251818e-06\n",
      "Running time of the direct coupling: 1.9819300174713135 seconds\n"
     ]
    },
    {
     "name": "stderr",
     "output_type": "stream",
     "text": [
      "\r",
      "  8%|██████▍                                                                      | 836/10000 [00:00<00:01, 4659.48it/s]"
     ]
    },
    {
     "name": "stderr",
     "output_type": "stream",
     "text": [
      "\r",
      " 16%|████████████                                                                | 1579/10000 [00:00<00:01, 5919.76it/s]"
     ]
    },
    {
     "name": "stderr",
     "output_type": "stream",
     "text": [
      "\r",
      " 23%|█████████████████▋                                                          | 2323/10000 [00:00<00:01, 6516.19it/s]"
     ]
    },
    {
     "name": "stderr",
     "output_type": "stream",
     "text": [
      "\r",
      " 31%|███████████████████████▎                                                    | 3064/10000 [00:00<00:01, 6834.80it/s]"
     ]
    },
    {
     "name": "stderr",
     "output_type": "stream",
     "text": [
      "\r",
      " 38%|████████████████████████████▉                                               | 3803/10000 [00:00<00:00, 7023.25it/s]"
     ]
    },
    {
     "name": "stderr",
     "output_type": "stream",
     "text": [
      "\r",
      " 45%|██████████████████████████████████▌                                         | 4549/10000 [00:00<00:00, 7165.71it/s]"
     ]
    },
    {
     "name": "stderr",
     "output_type": "stream",
     "text": [
      "\r",
      " 53%|████████████████████████████████████████▎                                   | 5297/10000 [00:00<00:00, 7262.85it/s]"
     ]
    },
    {
     "name": "stderr",
     "output_type": "stream",
     "text": [
      "\r",
      " 60%|█████████████████████████████████████████████▊                              | 6024/10000 [00:00<00:00, 7208.37it/s]"
     ]
    },
    {
     "name": "stderr",
     "output_type": "stream",
     "text": [
      "\r",
      " 67%|███████████████████████████████████████████████████▎                        | 6745/10000 [00:01<00:00, 7174.23it/s]"
     ]
    },
    {
     "name": "stderr",
     "output_type": "stream",
     "text": [
      "\r",
      " 75%|████████████████████████████████████████████████████████▋                   | 7463/10000 [00:01<00:00, 7083.82it/s]"
     ]
    },
    {
     "name": "stderr",
     "output_type": "stream",
     "text": [
      "\r",
      " 82%|██████████████████████████████████████████████████████████████              | 8172/10000 [00:01<00:00, 6848.69it/s]"
     ]
    },
    {
     "name": "stderr",
     "output_type": "stream",
     "text": [
      "\r",
      " 89%|███████████████████████████████████████████████████████████████████▍        | 8880/10000 [00:01<00:00, 6914.45it/s]"
     ]
    },
    {
     "name": "stderr",
     "output_type": "stream",
     "text": [
      "\r",
      " 96%|█████████████████████████████████████████████████████████████████████████   | 9619/10000 [00:01<00:00, 7053.40it/s]"
     ]
    },
    {
     "name": "stderr",
     "output_type": "stream",
     "text": [
      "\r",
      "100%|███████████████████████████████████████████████████████████████████████████| 10000/10000 [00:01<00:00, 6782.70it/s]"
     ]
    },
    {
     "name": "stdout",
     "output_type": "stream",
     "text": [
      "l1norm_u =  9.146630711997816e-08 l1norm_v =  1.2481511707631306e-07 l1norm_p =  8.195025302473762e-08\n",
      "Running time of the Chorin's projection: 1.4756381511688232 seconds\n"
     ]
    },
    {
     "name": "stderr",
     "output_type": "stream",
     "text": [
      "\n"
     ]
    }
   ],
   "source": [
    "u = np.zeros((ny, nx))\n",
    "v = np.zeros((ny, nx))\n",
    "p = np.zeros((ny, nx))\n",
    "b = np.zeros((ny, nx))\n",
    "nt = 10000\n",
    "c = 1\n",
    "\n",
    "start_time = time.time()\n",
    "\n",
    "u, v, p = cavity_flow_direct(nt, u, v, dt, dx, dy, p, rho, nu)\n",
    "\n",
    "end_time = time.time()\n",
    "# Compute running time\n",
    "running_time = end_time - start_time\n",
    "print(f\"Running time of the direct coupling: {running_time} seconds\")\n",
    "\n",
    "start_time = time.time()\n",
    "\n",
    "u, v, p = cavity_flow(nt, u, v, dt, dx, dy, p, rho, nu)\n",
    "\n",
    "end_time = time.time()\n",
    "# Compute running time\n",
    "running_time = end_time - start_time\n",
    "print(f\"Running time of the Chorin's projection: {running_time} seconds\")"
   ]
  },
  {
   "cell_type": "markdown",
   "id": "1b9808d8",
   "metadata": {},
   "source": [
    "**Chorin's projection is more efficient than the direct coupling approach!**"
   ]
  }
 ],
 "metadata": {
  "kernelspec": {
   "display_name": "Python 3 (ipykernel)",
   "language": "python",
   "name": "python3"
  },
  "language_info": {
   "codemirror_mode": {
    "name": "ipython",
    "version": 3
   },
   "file_extension": ".py",
   "mimetype": "text/x-python",
   "name": "python",
   "nbconvert_exporter": "python",
   "pygments_lexer": "ipython3",
   "version": "3.10.6"
  }
 },
 "nbformat": 4,
 "nbformat_minor": 5
}