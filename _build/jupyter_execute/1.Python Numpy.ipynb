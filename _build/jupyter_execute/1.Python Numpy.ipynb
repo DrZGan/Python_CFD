{
 "cells": [
  {
   "cell_type": "markdown",
   "id": "23aa8ec6",
   "metadata": {},
   "source": [
    "# Python Crash Course"
   ]
  },
  {
   "cell_type": "markdown",
   "id": "d57aa2fe",
   "metadata": {},
   "source": [
    "Hello! This is a quick intro to programming in Python.\n",
    "\n",
    "There are two ways to enjoy these lessons with Python:\n",
    "\n",
    "1. You can download and install a Python distribution on your computer. For Windows user, we recommend using Windows Subsystem for Linux (WSL) to run the Jupyter notebook for Python programming, following the instruction below (for Mac or Linux users, please find the instruction online): \n",
    "    \n",
    "    STEP 1\n",
    "    Search and click Turn Windows Features On or Off in the Windows search bar. Scroll down and ensure that the box next to Windows Subsystem for Linux (WSL) is checked. \n",
    "    If not, check the box and Restart your Computer. \n",
    "    \n",
    "    STEP 2\n",
    "    Visit Microsoft Store and download the Ubuntu app. This installs the Ubuntu-22.04 distribution to your WSL.\n",
    "\n",
    "    STEP 3\n",
    "    Run the Ubuntu app and type in the following commands to install Jupyter Notebook: https://harshityadav95.medium.com/jupyter-notebook-in-windows-subsystem-for-linux-wsl-8b46fdf0a536\n",
    "    \n",
    "    STEP 4\n",
    "    Navigate in the terminal (i.e., the Ubuntu app) to the folder that contains the .ipynb files or the folder you want to create a new .ipynb file. Then, to launch the notebook server, just type: jupyter notebook\n",
    "  \n",
    "    STEP 5\n",
    "    Copy the link and open it in your browser window. Click on one and start working!\n",
    "    \n",
    "    \n",
    "2. You can also use Google colab (Colaboratory) to create and run Python codes online!\n",
    "    "
   ]
  },
  {
   "cell_type": "markdown",
   "id": "74e529d2",
   "metadata": {},
   "source": [
    "## Libraries"
   ]
  },
  {
   "cell_type": "markdown",
   "id": "183be32a",
   "metadata": {},
   "source": [
    "Python is a high-level open-source language.  But the _Python world_ is inhabited by many packages or libraries that provide useful things like array operations, plotting functions, and much more. We can import libraries of functions to expand the capabilities of Python in our programs.  \n",
    "\n",
    "OK! We'll start by importing a few libraries to help us out. First: our favorite library is **NumPy**, providing a bunch of useful array operations (similar to MATLAB). We will use it a lot! The second library we need is **Matplotlib**, a 2D plotting library which we will use to plot our results.\n",
    "The following code will be at the top of most of your programs, so execute this cell first:"
   ]
  },
  {
   "cell_type": "code",
   "execution_count": 1,
   "id": "fdb1f2a7",
   "metadata": {},
   "outputs": [],
   "source": [
    "# <-- comments in python are denoted by the pound sign, like this one\n",
    "\n",
    "import numpy                 # we import the array library\n",
    "from matplotlib import pyplot    # import plotting library"
   ]
  },
  {
   "cell_type": "markdown",
   "id": "e1115d76",
   "metadata": {},
   "source": [
    "We are importing one library named numpy and we are importing a module called pyplot of a big library called matplotlib. To use a function belonging to one of these libraries, we have to tell Python where to look for it. For that, each function name is written following the library name, with a dot in between. So if we want to use the NumPy function linspace(), which creates an array with equally spaced numbers between a start and end, we call it by writing:"
   ]
  },
  {
   "cell_type": "code",
   "execution_count": 2,
   "id": "dcbcdcef",
   "metadata": {},
   "outputs": [
    {
     "data": {
      "text/plain": [
       "array([0.        , 0.55555556, 1.11111111, 1.66666667, 2.22222222,\n",
       "       2.77777778, 3.33333333, 3.88888889, 4.44444444, 5.        ])"
      ]
     },
     "execution_count": 2,
     "metadata": {},
     "output_type": "execute_result"
    }
   ],
   "source": [
    "myarray = numpy.linspace(0, 5, 10)\n",
    "myarray"
   ]
  },
  {
   "cell_type": "markdown",
   "id": "468b9a7c",
   "metadata": {},
   "source": [
    "If we don't preface the linspace() function with numpy, Python will throw an error."
   ]
  },
  {
   "cell_type": "code",
   "execution_count": 3,
   "id": "52edd5e7",
   "metadata": {},
   "outputs": [
    {
     "ename": "NameError",
     "evalue": "name 'linspace' is not defined",
     "output_type": "error",
     "traceback": [
      "\u001b[0;31m---------------------------------------------------------------------------\u001b[0m",
      "\u001b[0;31mNameError\u001b[0m                                 Traceback (most recent call last)",
      "\u001b[0;32m/tmp/ipykernel_20502/2687275794.py\u001b[0m in \u001b[0;36m<module>\u001b[0;34m\u001b[0m\n\u001b[0;32m----> 1\u001b[0;31m \u001b[0mmyarray\u001b[0m \u001b[0;34m=\u001b[0m \u001b[0mlinspace\u001b[0m\u001b[0;34m(\u001b[0m\u001b[0;36m0\u001b[0m\u001b[0;34m,\u001b[0m \u001b[0;36m5\u001b[0m\u001b[0;34m,\u001b[0m \u001b[0;36m10\u001b[0m\u001b[0;34m)\u001b[0m\u001b[0;34m\u001b[0m\u001b[0;34m\u001b[0m\u001b[0m\n\u001b[0m",
      "\u001b[0;31mNameError\u001b[0m: name 'linspace' is not defined"
     ]
    }
   ],
   "source": [
    "myarray = linspace(0, 5, 10)"
   ]
  },
  {
   "cell_type": "markdown",
   "id": "9c5e4619",
   "metadata": {},
   "source": [
    "The function `linspace()` is very useful. Try it changing the input parameters!\n",
    "\n",
    "**Import style:**\n",
    "\n",
    "You will often see code snippets that use the following lines\n",
    "```Python\n",
    "import numpy as np\n",
    "import matplotlib.pyplot as plt\n",
    "```\n",
    "What's all of this import-as business? It's a way of creating a 'shortcut' to the NumPy library and the pyplot module. You will see it frequently as it is in common usage, but we prefer to keep out imports explicit. We think it helps with code readability.\n",
    "\n",
    "**Pro tip:**\n",
    "\n",
    "Sometimes, you'll see people importing a whole library without assigning a shortcut for it (like `from numpy import *`). This saves typing but is sloppy and can get you in trouble. Best to get into good habits from the beginning!\n",
    "\n",
    "\n",
    "To learn a new function you don't understand, you can just google it or ask ChatGPT to expain it, even giving you some examples! "
   ]
  },
  {
   "cell_type": "markdown",
   "id": "e73ac6d6",
   "metadata": {},
   "source": [
    "## Variables"
   ]
  },
  {
   "cell_type": "markdown",
   "id": "69458629",
   "metadata": {},
   "source": [
    "Python doesn't require explicitly declared variable types like C and other languages.  "
   ]
  },
  {
   "cell_type": "code",
   "execution_count": null,
   "id": "0582cd15",
   "metadata": {},
   "outputs": [],
   "source": [
    "a = 5        #a is an integer 5\n",
    "b = 'five'   #b is a string of the word 'five'\n",
    "c = 5.0      #c is a floating point 5  "
   ]
  },
  {
   "cell_type": "code",
   "execution_count": null,
   "id": "0e8066d4",
   "metadata": {},
   "outputs": [],
   "source": [
    "type(a)"
   ]
  },
  {
   "cell_type": "code",
   "execution_count": null,
   "id": "1ce67fcc",
   "metadata": {},
   "outputs": [],
   "source": [
    "type(b)"
   ]
  },
  {
   "cell_type": "code",
   "execution_count": null,
   "id": "475900c8",
   "metadata": {},
   "outputs": [],
   "source": [
    "type(c)"
   ]
  },
  {
   "cell_type": "code",
   "execution_count": null,
   "id": "455fc3af",
   "metadata": {},
   "outputs": [],
   "source": [
    "3/2"
   ]
  },
  {
   "cell_type": "markdown",
   "id": "e1e1d4c8",
   "metadata": {},
   "source": [
    "## Whitespace in Python"
   ]
  },
  {
   "cell_type": "markdown",
   "id": "6e6b9f5b",
   "metadata": {},
   "source": [
    "Python uses indents and whitespace to group statements together.  To write a short loop in C, you might use:\n",
    "\n",
    "    for (i = 0, i < 5, i++){\n",
    "       printf(\"Hi! \\n\");\n",
    "    }\n",
    "    \n",
    "Python does not use curly braces like C, so the same program as above is written in Python as follows:"
   ]
  },
  {
   "cell_type": "code",
   "execution_count": 1,
   "id": "2f650060",
   "metadata": {},
   "outputs": [
    {
     "name": "stdout",
     "output_type": "stream",
     "text": [
      "Hi \n",
      "\n",
      "Hi \n",
      "\n",
      "Hi \n",
      "\n",
      "Hi \n",
      "\n",
      "Hi \n",
      "\n"
     ]
    }
   ],
   "source": [
    "for i in range(5):\n",
    "    print(\"Hi \\n\")"
   ]
  },
  {
   "cell_type": "markdown",
   "id": "886c518f",
   "metadata": {},
   "source": [
    "If you have nested for-loops, there is a further indent for the inner loop."
   ]
  },
  {
   "cell_type": "code",
   "execution_count": null,
   "id": "50ae0e15",
   "metadata": {},
   "outputs": [],
   "source": [
    "for i in range(3):\n",
    "    for j in range(3):\n",
    "        print(i, j)\n",
    "    \n",
    "    print(\"This statement is within the i-loop, but not the j-loop\")"
   ]
  },
  {
   "cell_type": "markdown",
   "id": "12fb7e65",
   "metadata": {},
   "source": [
    "## Slicing Arrays"
   ]
  },
  {
   "cell_type": "markdown",
   "id": "a857560f",
   "metadata": {},
   "source": [
    "In NumPy, you can look at portions of arrays in the same way as in `Matlab`, with a few extra tricks thrown in.  Let's take an array of values from 1 to 5."
   ]
  },
  {
   "cell_type": "code",
   "execution_count": null,
   "id": "2e7d3629",
   "metadata": {},
   "outputs": [],
   "source": [
    "myvals = numpy.array([1, 2, 3, 4, 5])\n",
    "myvals"
   ]
  },
  {
   "cell_type": "markdown",
   "id": "76ae131a",
   "metadata": {},
   "source": [
    "Python uses a **zero-based index**, so let's look at the first and last element in the array `myvals`"
   ]
  },
  {
   "cell_type": "code",
   "execution_count": null,
   "id": "cf4cfcc3",
   "metadata": {},
   "outputs": [],
   "source": [
    "myvals[0], myvals[4]"
   ]
  },
  {
   "cell_type": "markdown",
   "id": "dcfbad38",
   "metadata": {},
   "source": [
    "There are 5 elements in the array `myvals`, but if we try to look at `myvals[5]`, Python will be unhappy, as `myvals[5]` is actually calling the non-existant 6th element of that array."
   ]
  },
  {
   "cell_type": "code",
   "execution_count": null,
   "id": "8989140b",
   "metadata": {},
   "outputs": [],
   "source": [
    "myvals[5]"
   ]
  },
  {
   "cell_type": "markdown",
   "id": "96156305",
   "metadata": {},
   "source": [
    "Arrays can also be 'sliced', grabbing a range of values.  Let's look at the first three elements"
   ]
  },
  {
   "cell_type": "code",
   "execution_count": null,
   "id": "0c06ea88",
   "metadata": {},
   "outputs": [],
   "source": [
    "myvals[0:3]"
   ]
  },
  {
   "cell_type": "markdown",
   "id": "92a5858b",
   "metadata": {},
   "source": [
    "Note here, the slice is inclusive on the front end and exclusive on the back, so the above command gives us the values of `myvals[0]`, `myvals[1]` and `myvals[2]`, but not `myvals[3]`."
   ]
  },
  {
   "cell_type": "markdown",
   "id": "ea7dd12a",
   "metadata": {},
   "source": [
    "## Assigning Array Variables"
   ]
  },
  {
   "cell_type": "markdown",
   "id": "74ef6868",
   "metadata": {},
   "source": [
    "One of the strange little quirks/features in Python that often confuses people comes up when assigning and comparing arrays of values.  Here is a quick example.  Let's start by defining a 1-D array called $a$:"
   ]
  },
  {
   "cell_type": "code",
   "execution_count": null,
   "id": "b2045eee",
   "metadata": {},
   "outputs": [],
   "source": [
    "a = numpy.linspace(1,5,5)\n",
    "b = numpy.zeros(5)\n",
    "c = numpy.ones(5)\n",
    "d = numpy.random.rand(5)"
   ]
  },
  {
   "cell_type": "code",
   "execution_count": null,
   "id": "08c571a9",
   "metadata": {},
   "outputs": [],
   "source": [
    "print(a,b,c,d)"
   ]
  },
  {
   "cell_type": "markdown",
   "id": "67182b1f",
   "metadata": {},
   "source": [
    "OK, so we have an array $a$, with the values 1 through 5.  I want to make a copy of that array, called $b$, so I'll try the following:"
   ]
  },
  {
   "cell_type": "code",
   "execution_count": null,
   "id": "7d440cf9",
   "metadata": {},
   "outputs": [],
   "source": [
    "b = a\n",
    "b"
   ]
  },
  {
   "cell_type": "markdown",
   "id": "e04aefab",
   "metadata": {},
   "source": [
    "Great.  So $a$ has the values 1 through 5 and now so does $b$.  Now that I have a backup of $a$, I can change its values without worrying about losing data (or so I may think!)."
   ]
  },
  {
   "cell_type": "code",
   "execution_count": null,
   "id": "ea95bf76",
   "metadata": {},
   "outputs": [],
   "source": [
    "a[2] = 17"
   ]
  },
  {
   "cell_type": "code",
   "execution_count": null,
   "id": "9b103f48",
   "metadata": {},
   "outputs": [],
   "source": [
    "a"
   ]
  },
  {
   "cell_type": "markdown",
   "id": "55b063fe",
   "metadata": {},
   "source": [
    "Here, the 3rd element of $a$ has been changed to 17.  Now let's check on $b$."
   ]
  },
  {
   "cell_type": "code",
   "execution_count": null,
   "id": "1966918a",
   "metadata": {},
   "outputs": [],
   "source": [
    "b"
   ]
  },
  {
   "cell_type": "markdown",
   "id": "e12d8029",
   "metadata": {},
   "source": [
    "And that's how things go wrong! When you use a statement like  𝑎=𝑏\n",
    " , rather than copying all the values of  𝑎\n",
    "  into a new array called  𝑏\n",
    " , Python just creates an alias (or a pointer) called  𝑏\n",
    "  and tells it to route us to  𝑎\n",
    " . So if we change a value in  𝑎\n",
    "  then  𝑏\n",
    "  will reflect that change (technically, this is called assignment by reference). If you want to make a true copy of the array, you have to tell Python to copy every element of  𝑎\n",
    "  into a new array. Let's call it  𝑐\n",
    " ."
   ]
  },
  {
   "cell_type": "code",
   "execution_count": null,
   "id": "934a054d",
   "metadata": {},
   "outputs": [],
   "source": [
    "c = a.copy()\n",
    "a[2] = 3"
   ]
  },
  {
   "cell_type": "code",
   "execution_count": null,
   "id": "dd9a68a1",
   "metadata": {},
   "outputs": [],
   "source": [
    "a"
   ]
  },
  {
   "cell_type": "code",
   "execution_count": null,
   "id": "e9a2da99",
   "metadata": {},
   "outputs": [],
   "source": [
    "c"
   ]
  },
  {
   "cell_type": "markdown",
   "id": "001a8654",
   "metadata": {},
   "source": [
    "OK, it worked!  If the difference between `a = b` and `a = b.copy()` is unclear, you should read through this again.  This issue will come back to haunt you otherwise."
   ]
  },
  {
   "cell_type": "code",
   "execution_count": 4,
   "id": "3a06d928",
   "metadata": {},
   "outputs": [
    {
     "data": {
      "image/png": "[encoded data removed]",
      "text/plain": [
       "<Figure size 432x288 with 1 Axes>"
      ]
     },
     "metadata": {
      "needs_background": "light"
     },
     "output_type": "display_data"
    }
   ],
   "source": [
    "import matplotlib.pyplot as plt\n",
    "import numpy as np\n",
    "\n",
    "# Create a numpy array of 100 numbers from 0 to 2*pi\n",
    "x = np.linspace(0, 2*np.pi, 100)\n",
    "\n",
    "# Create a numpy array for the sine of x\n",
    "y = np.sin(x)\n",
    "\n",
    "# Use pyplot to create a line plot of y vs. x\n",
    "plt.plot(x, y)\n",
    "\n",
    "# Add labels to the x and y axes\n",
    "plt.xlabel('x')\n",
    "plt.ylabel('sin(x)')\n",
    "\n",
    "# Add a title\n",
    "plt.title('Plot of the Sine Function')\n",
    "\n",
    "# Display the plot\n",
    "plt.show()"
   ]
  },
  {
   "cell_type": "code",
   "execution_count": 5,
   "id": "bc788e2a",
   "metadata": {},
   "outputs": [
    {
     "data": {
      "image/png": "[encoded data removed]",
      "text/plain": [
       "<Figure size 720x432 with 1 Axes>"
      ]
     },
     "metadata": {
      "needs_background": "light"
     },
     "output_type": "display_data"
    }
   ],
   "source": [
    "\n",
    "# Set default font to Arial\n",
    "plt.rcParams['font.family'] = 'arial'\n",
    "# Set default font size\n",
    "plt.rcParams['font.size'] = 16\n",
    "\n",
    "# Create a numpy array of 100 numbers from 0 to 2*pi\n",
    "x = np.linspace(0, 2*np.pi, 100)\n",
    "\n",
    "# Create a numpy array for the sine of x\n",
    "y = np.sin(x)\n",
    "\n",
    "# Create a new figure with a specific size\n",
    "plt.figure(figsize=(10, 6))\n",
    "\n",
    "# Use pyplot to create a line plot of y vs. x with a specific color, linewidth, and label for the legend\n",
    "plt.plot(x, y, color='blue', linewidth=2, label='sin(x)')\n",
    "\n",
    "# Add labels to the x and y axes with a specific font size\n",
    "plt.xlabel('x', fontsize=16)\n",
    "plt.ylabel('sin(x)', fontsize=16)\n",
    "\n",
    "# Add a title with a specific font size\n",
    "plt.title('Plot of the Sine Function', fontsize=18)\n",
    "\n",
    "# Add a grid\n",
    "plt.grid(True)\n",
    "\n",
    "# Add a legend with a specific location\n",
    "plt.legend(loc='upper right')\n",
    "\n",
    "# Set the limit for the x and y axes\n",
    "plt.xlim([0, 2*np.pi])\n",
    "plt.ylim([-1.5, 1.5])\n",
    "\n",
    "# Set the ticks for the x and y axes\n",
    "plt.xticks(np.arange(0, 2*np.pi, np.pi/2))\n",
    "plt.yticks(np.arange(-1, 1.5, 0.5))\n",
    "\n",
    "# Display the plot\n",
    "plt.show()"
   ]
  },
  {
   "cell_type": "code",
   "execution_count": null,
   "id": "dadb3136",
   "metadata": {},
   "outputs": [],
   "source": []
  },
  {
   "cell_type": "code",
   "execution_count": null,
   "id": "05c1b7c2",
   "metadata": {},
   "outputs": [],
   "source": []
  },
  {
   "cell_type": "code",
   "execution_count": null,
   "id": "12b1bdd6",
   "metadata": {},
   "outputs": [],
   "source": []
  }
 ],
 "metadata": {
  "kernelspec": {
   "display_name": "Python 3 (ipykernel)",
   "language": "python",
   "name": "python3"
  },
  "language_info": {
   "codemirror_mode": {
    "name": "ipython",
    "version": 3
   },
   "file_extension": ".py",
   "mimetype": "text/x-python",
   "name": "python",
   "nbconvert_exporter": "python",
   "pygments_lexer": "ipython3",
   "version": "3.10.6"
  }
 },
 "nbformat": 4,
 "nbformat_minor": 5
}